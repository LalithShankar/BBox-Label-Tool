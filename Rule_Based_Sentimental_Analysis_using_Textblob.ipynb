{
  "nbformat": 4,
  "nbformat_minor": 0,
  "metadata": {
    "colab": {
      "name": "Rule Based Sentimental Analysis using Textblob.ipynb",
      "provenance": [],
      "collapsed_sections": [],
      "authorship_tag": "ABX9TyPNHJC/bsdmA84DC7xxZooV",
      "include_colab_link": true
    },
    "kernelspec": {
      "name": "python3",
      "display_name": "Python 3"
    }
  },
  "cells": [
    {
      "cell_type": "markdown",
      "metadata": {
        "id": "view-in-github",
        "colab_type": "text"
      },
      "source": [
        "<a href=\"https://colab.research.google.com/github/LalithShankar/BBox-Label-Tool/blob/master/Rule_Based_Sentimental_Analysis_using_Textblob.ipynb\" target=\"_parent\"><img src=\"https://colab.research.google.com/assets/colab-badge.svg\" alt=\"Open In Colab\"/></a>"
      ]
    },
    {
      "cell_type": "code",
      "metadata": {
        "id": "dd9YcvbD7wc5",
        "colab_type": "code",
        "colab": {}
      },
      "source": [
        "from tika import parser\n",
        "\n",
        "raw = parser.from_file('Wells_Fargo_Advisors_Proceedings.pdf')\n",
        "text= (raw['content'])\n",
        "print(text)"
      ],
      "execution_count": 0,
      "outputs": []
    },
    {
      "cell_type": "code",
      "metadata": {
        "id": "Oa09zvEs7yDi",
        "colab_type": "code",
        "colab": {}
      },
      "source": [
        "pip install tika"
      ],
      "execution_count": 0,
      "outputs": []
    },
    {
      "cell_type": "code",
      "metadata": {
        "id": "c4wZx3uoPO3s",
        "colab_type": "code",
        "outputId": "d7d41e4f-ce7d-455b-c1d3-056a8cfb71ac",
        "colab": {
          "base_uri": "https://localhost:8080/",
          "height": 54
        }
      },
      "source": [
        "text"
      ],
      "execution_count": 7,
      "outputs": [
        {
          "output_type": "execute_result",
          "data": {
            "text/plain": [
              "'\\n\\n\\n\\n\\n\\n\\n\\n\\n\\n\\n\\n\\n\\n\\n\\n\\n\\n\\n\\n\\n\\n\\n\\n\\n\\n\\n\\n\\n\\n\\n\\n\\n\\n\\n\\n\\n\\n\\n\\n\\n\\n\\n\\n\\n\\n\\n\\n\\n\\nAdministrative Summary\\n\\n\\nADMINISTRATIVE PROCEEDING \\n\\nFile No. 3 - 18279 \\n\\nSEC Charges Wells Fargo Advisors with Failing to Comply With Anti-Money Laundering \\n\\nLaws \\n\\nNovember 13, 2017 - The Securities and Exchange Commission today announced that Wells \\n\\nFargo Advisors, LLC, a registered broker-dealer located in St. Louis, Missouri, agreed to settle \\n\\ncharges that it failed to file and timely file a number of Suspicious Activity Reports (SARs) \\n\\nbetween approximately March 2012 and June 2013.  Most of these failures related to continuing \\n\\nsuspicious activity occurring in accounts held at Wells Fargo Advisors’ U.S. branch offices that \\n\\nfocused on international customers. \\n\\nTo help detect potential violations of the securities laws and other money laundering violations, \\n\\nthe Bank Secrecy Act (BSA) requires broker-dealers to file SARs to report suspicious \\n\\ntransactions that occur through their firms.  The BSA and the U.S. Treasury Department’s \\n\\nFinancial Crimes Enforcement Network (FinCEN) require the filing of a SAR within 30 days \\n\\nafter a broker-dealer determines the activity is suspicious.  For SARs identifying continuing \\n\\nactivity of a previously-filed SAR, FinCEN provides administrative relief which allows broker-\\n\\ndealers to file SARs for continuing activity within 120 days after the previously-related SAR \\n\\nfiling.   \\n\\nAccording to the SEC’s order, starting in approximately March 2012, new management over \\n\\nWells Fargo Advisors’ AML program created confusion by telling the firm’s SAR investigators \\n\\nthat they were filing too many SARs; that continuing activity SAR reviews were not a regulatory \\n\\nrequirement; that they were to take steps to eliminate further continuing activity reviews; and \\n\\nthat filing a SAR required “proof” of illegal activity.  These statements created an environment \\n\\nin which the SAR investigators experienced difficulty in recommending and filing SARs, \\n\\nespecially continuing activity SARs.  Ultimately, Wells Fargo Advisors’ total SAR filings \\n\\ndropped by approximately 60% during an 11-month period and the firm failed to file or timely \\n\\nfile at least 50 SARs, 45 of which related to continuing activity.    \\n\\nThe SEC’s order instituting a settled administrative and cease-and-desist proceeding finds that \\n\\nWells Fargo Advisors violated Section 17(a) of the Securities Exchange Act of 1934 and Rule \\n\\n17a-8.  Without admitting or denying the SEC’s findings, Wells Fargo Advisors consented to a \\n\\ncease-and-desist order, a censure, and a civil penalty of $3,500,000.  Wells Fargo Advisors also \\n\\nvoluntarily undertakes to review and update its policies and procedures and develop and conduct \\n\\nadditional training.  \\n\\nThe SEC’s investigation was conducted by Richard G. Stoltz, Paul Mensheha and Anne C. \\n\\nMcKinley of the Chicago Regional Office.  The examination that led to the investigation was \\n\\nconducted by Craig E. Carlson, Keith Frisz, David Hoffmeyer, George J. Jacobus, Paul \\n\\nMensheha and Jennifer L. Spicher.     \\n\\nThe SEC appreciates the assistance of FinCEN and the Financial Industry Regulatory Authority. \\n\\nSee also:  Order\\n\\nhttps://www.sec.gov/litigation/admin/2017/34-82054.pdf\\n\\n'"
            ]
          },
          "metadata": {
            "tags": []
          },
          "execution_count": 7
        }
      ]
    },
    {
      "cell_type": "code",
      "metadata": {
        "id": "HmMowLBQPYa6",
        "colab_type": "code",
        "colab": {}
      },
      "source": [
        ""
      ],
      "execution_count": 0,
      "outputs": []
    },
    {
      "cell_type": "code",
      "metadata": {
        "id": "Ewg8FxIk8B1K",
        "colab_type": "code",
        "outputId": "68b7ad0c-4831-4425-d46b-b022b0f5b984",
        "colab": {
          "base_uri": "https://localhost:8080/",
          "height": 54
        }
      },
      "source": [
        "dot2spaces= text.replace('   ', '')\n",
        "dot2spaces\n"
      ],
      "execution_count": 9,
      "outputs": [
        {
          "output_type": "execute_result",
          "data": {
            "text/plain": [
              "'\\n\\n\\n\\n\\n\\n\\n\\n\\n\\n\\n\\n\\n\\n\\n\\n\\n\\n\\n\\n\\n\\n\\n\\n\\n\\n\\n\\n\\n\\n\\n\\n\\n\\n\\n\\n\\n\\n\\n\\n\\n\\n\\n\\n\\n\\n\\n\\n\\n\\nAdministrative Summary\\n\\n\\nADMINISTRATIVE PROCEEDING \\n\\nFile No. 3 - 18279 \\n\\nSEC Charges Wells Fargo Advisors with Failing to Comply With Anti-Money Laundering \\n\\nLaws \\n\\nNovember 13, 2017 - The Securities and Exchange Commission today announced that Wells \\n\\nFargo Advisors, LLC, a registered broker-dealer located in St. Louis, Missouri, agreed to settle \\n\\ncharges that it failed to file and timely file a number of Suspicious Activity Reports (SARs) \\n\\nbetween approximately March 2012 and June 2013.  Most of these failures related to continuing \\n\\nsuspicious activity occurring in accounts held at Wells Fargo Advisors’ U.S. branch offices that \\n\\nfocused on international customers. \\n\\nTo help detect potential violations of the securities laws and other money laundering violations, \\n\\nthe Bank Secrecy Act (BSA) requires broker-dealers to file SARs to report suspicious \\n\\ntransactions that occur through their firms.  The BSA and the U.S. Treasury Department’s \\n\\nFinancial Crimes Enforcement Network (FinCEN) require the filing of a SAR within 30 days \\n\\nafter a broker-dealer determines the activity is suspicious.  For SARs identifying continuing \\n\\nactivity of a previously-filed SAR, FinCEN provides administrative relief which allows broker-\\n\\ndealers to file SARs for continuing activity within 120 days after the previously-related SAR \\n\\nfiling.\\n\\nAccording to the SEC’s order, starting in approximately March 2012, new management over \\n\\nWells Fargo Advisors’ AML program created confusion by telling the firm’s SAR investigators \\n\\nthat they were filing too many SARs; that continuing activity SAR reviews were not a regulatory \\n\\nrequirement; that they were to take steps to eliminate further continuing activity reviews; and \\n\\nthat filing a SAR required “proof” of illegal activity.  These statements created an environment \\n\\nin which the SAR investigators experienced difficulty in recommending and filing SARs, \\n\\nespecially continuing activity SARs.  Ultimately, Wells Fargo Advisors’ total SAR filings \\n\\ndropped by approximately 60% during an 11-month period and the firm failed to file or timely \\n\\nfile at least 50 SARs, 45 of which related to continuing activity. \\n\\nThe SEC’s order instituting a settled administrative and cease-and-desist proceeding finds that \\n\\nWells Fargo Advisors violated Section 17(a) of the Securities Exchange Act of 1934 and Rule \\n\\n17a-8.  Without admitting or denying the SEC’s findings, Wells Fargo Advisors consented to a \\n\\ncease-and-desist order, a censure, and a civil penalty of $3,500,000.  Wells Fargo Advisors also \\n\\nvoluntarily undertakes to review and update its policies and procedures and develop and conduct \\n\\nadditional training.  \\n\\nThe SEC’s investigation was conducted by Richard G. Stoltz, Paul Mensheha and Anne C. \\n\\nMcKinley of the Chicago Regional Office.  The examination that led to the investigation was \\n\\nconducted by Craig E. Carlson, Keith Frisz, David Hoffmeyer, George J. Jacobus, Paul \\n\\nMensheha and Jennifer L. Spicher.  \\n\\nThe SEC appreciates the assistance of FinCEN and the Financial Industry Regulatory Authority. \\n\\nSee also:  Order\\n\\nhttps://www.sec.gov/litigation/admin/2017/34-82054.pdf\\n\\n'"
            ]
          },
          "metadata": {
            "tags": []
          },
          "execution_count": 9
        }
      ]
    },
    {
      "cell_type": "code",
      "metadata": {
        "id": "qtVpHLiy-xhw",
        "colab_type": "code",
        "colab": {}
      },
      "source": [
        "space2newlines = dot2spaces.split(' \\n\\n')\n",
        "space2newlines"
      ],
      "execution_count": 0,
      "outputs": []
    },
    {
      "cell_type": "code",
      "metadata": {
        "id": "NOkyJPWEEVfH",
        "colab_type": "code",
        "colab": {}
      },
      "source": [
        "import pandas as pd \n",
        "df = pd.DataFrame(space2newlines) \n",
        "df"
      ],
      "execution_count": 0,
      "outputs": []
    },
    {
      "cell_type": "code",
      "metadata": {
        "id": "2vrGEQvbErYP",
        "colab_type": "code",
        "colab": {
          "base_uri": "https://localhost:8080/",
          "height": 215
        },
        "outputId": "90a08b76-cc38-4f97-baca-4bf3aa7b36b7"
      },
      "source": [
        "y = pd.Series(['\\n\\n\\n\\n\\n\\n\\n\\n\\n\\n\\n\\n\\n\\n\\n\\n\\n\\n\\n\\n\\n\\n\\n\\n\\n\\n\\n\\n\\n\\n\\n\\n\\n\\n\\n\\n\\n\\n\\n\\n\\n\\n\\n\\n\\n\\n\\n\\n\\n\\nAdministrative Summary\\n\\n\\nADMINISTRATIVE PROCEEDING',\n",
        " 'File No. 3 - 18279',\n",
        " 'SEC Charges Wells Fargo Advisors with Failing to Comply With Anti-Money Laundering',\n",
        " 'Laws',\n",
        " 'November 13, 2017 - The Securities and Exchange Commission today announced that Wells',\n",
        " 'Fargo Advisors, LLC, a registered broker-dealer located in St. Louis, Missouri, agreed to settle',\n",
        " 'charges that it failed to file and timely file a number of Suspicious Activity Reports (SARs)',\n",
        " 'between approximately March 2012 and June 2013.  Most of these failures related to continuing',\n",
        " 'suspicious activity occurring in accounts held at Wells Fargo Advisors’ U.S. branch offices that',\n",
        " 'focused on international customers.',\n",
        " 'To help detect potential violations of the securities laws and other money laundering violations,',\n",
        " 'the Bank Secrecy Act (BSA) requires broker-dealers to file SARs to report suspicious',\n",
        " 'transactions that occur through their firms.  The BSA and the U.S. Treasury Department’s',\n",
        " 'Financial Crimes Enforcement Network (FinCEN) require the filing of a SAR within 30 days',\n",
        " 'after a broker-dealer determines the activity is suspicious.  For SARs identifying continuing',\n",
        " 'activity of a previously-filed SAR, FinCEN provides administrative relief which allows broker-\\n\\ndealers to file SARs for continuing activity within 120 days after the previously-related SAR',\n",
        " 'filing.\\n\\nAccording to the SEC’s order, starting in approximately March 2012, new management over',\n",
        " 'Wells Fargo Advisors’ AML program created confusion by telling the firm’s SAR investigators',\n",
        " 'that they were filing too many SARs; that continuing activity SAR reviews were not a regulatory',\n",
        " 'requirement; that they were to take steps to eliminate further continuing activity reviews; and',\n",
        " 'that filing a SAR required “proof” of illegal activity.  These statements created an environment',\n",
        " 'in which the SAR investigators experienced difficulty in recommending and filing SARs,',\n",
        " 'especially continuing activity SARs.  Ultimately, Wells Fargo Advisors’ total SAR filings',\n",
        " 'dropped by approximately 60% during an 11-month period and the firm failed to file or timely',\n",
        " 'file at least 50 SARs, 45 of which related to continuing activity.',\n",
        " 'The SEC’s order instituting a settled administrative and cease-and-desist proceeding finds that',\n",
        " 'Wells Fargo Advisors violated Section 17(a) of the Securities Exchange Act of 1934 and Rule',\n",
        " '17a-8.  Without admitting or denying the SEC’s findings, Wells Fargo Advisors consented to a',\n",
        " 'cease-and-desist order, a censure, and a civil penalty of $3,500,000.  Wells Fargo Advisors also',\n",
        " 'voluntarily undertakes to review and update its policies and procedures and develop and conduct',\n",
        " 'additional training. ',\n",
        " 'The SEC’s investigation was conducted by Richard G. Stoltz, Paul Mensheha and Anne C.',\n",
        " 'McKinley of the Chicago Regional Office.  The examination that led to the investigation was',\n",
        " 'conducted by Craig E. Carlson, Keith Frisz, David Hoffmeyer, George J. Jacobus, Paul',\n",
        " 'Mensheha and Jennifer L. Spicher. ',\n",
        " 'The SEC appreciates the assistance of FinCEN and the Financial Industry Regulatory Authority.',\n",
        " 'See also:  Order\\n\\nhttps://www.sec.gov/litigation/admin/2017/34-82054.pdf\\n\\n']) \n",
        "print(x)"
      ],
      "execution_count": 12,
      "outputs": [
        {
          "output_type": "error",
          "ename": "NameError",
          "evalue": "ignored",
          "traceback": [
            "\u001b[0;31m---------------------------------------------------------------------------\u001b[0m",
            "\u001b[0;31mNameError\u001b[0m                                 Traceback (most recent call last)",
            "\u001b[0;32m<ipython-input-12-d24125662a9e>\u001b[0m in \u001b[0;36m<module>\u001b[0;34m()\u001b[0m\n\u001b[1;32m     36\u001b[0m  \u001b[0;34m'The SEC appreciates the assistance of FinCEN and the Financial Industry Regulatory Authority.'\u001b[0m\u001b[0;34m,\u001b[0m\u001b[0;34m\u001b[0m\u001b[0;34m\u001b[0m\u001b[0m\n\u001b[1;32m     37\u001b[0m  'See also:  Order\\n\\nhttps://www.sec.gov/litigation/admin/2017/34-82054.pdf\\n\\n']) \n\u001b[0;32m---> 38\u001b[0;31m \u001b[0mprint\u001b[0m\u001b[0;34m(\u001b[0m\u001b[0mx\u001b[0m\u001b[0;34m)\u001b[0m\u001b[0;34m\u001b[0m\u001b[0;34m\u001b[0m\u001b[0m\n\u001b[0m",
            "\u001b[0;31mNameError\u001b[0m: name 'x' is not defined"
          ]
        }
      ]
    },
    {
      "cell_type": "code",
      "metadata": {
        "id": "6qy09g1SFIsH",
        "colab_type": "code",
        "outputId": "67c2cfde-3e79-4c92-e29d-dcdfe873d342",
        "colab": {
          "base_uri": "https://localhost:8080/",
          "height": 655
        }
      },
      "source": [
        "import textblob\n",
        "from textblob import TextBlob\n",
        "pol = lambda x: TextBlob(x).sentiment.polarity\n",
        "sub = lambda x: TextBlob(x).sentiment.subjectivity\n",
        "\n",
        "print(y.apply(pol))\n"
      ],
      "execution_count": 13,
      "outputs": [
        {
          "output_type": "stream",
          "text": [
            "0     0.000000\n",
            "1     0.000000\n",
            "2    -0.100000\n",
            "3     0.000000\n",
            "4     0.000000\n",
            "5     0.000000\n",
            "6    -0.500000\n",
            "7     0.033333\n",
            "8     0.000000\n",
            "9     0.000000\n",
            "10   -0.062500\n",
            "11    0.000000\n",
            "12    0.000000\n",
            "13    0.000000\n",
            "14    0.000000\n",
            "15    0.000000\n",
            "16   -0.090909\n",
            "17   -0.200000\n",
            "18    0.500000\n",
            "19    0.000000\n",
            "20   -0.500000\n",
            "21    0.800000\n",
            "22    0.000000\n",
            "23   -0.366667\n",
            "24   -0.150000\n",
            "25   -0.100000\n",
            "26    0.000000\n",
            "27   -0.100000\n",
            "28    0.000000\n",
            "29    0.000000\n",
            "30    0.000000\n",
            "31   -0.100000\n",
            "32    0.000000\n",
            "33    0.000000\n",
            "34    0.000000\n",
            "35   -0.050000\n",
            "36    0.000000\n",
            "dtype: float64\n"
          ],
          "name": "stdout"
        }
      ]
    },
    {
      "cell_type": "code",
      "metadata": {
        "id": "lyp8TMeuKNvJ",
        "colab_type": "code",
        "outputId": "9c61091a-9629-459e-c1cd-88568d8e2d2e",
        "colab": {
          "base_uri": "https://localhost:8080/",
          "height": 655
        }
      },
      "source": [
        "y.apply(sub)"
      ],
      "execution_count": 14,
      "outputs": [
        {
          "output_type": "execute_result",
          "data": {
            "text/plain": [
              "0     0.000000\n",
              "1     0.000000\n",
              "2     0.600000\n",
              "3     0.000000\n",
              "4     0.000000\n",
              "5     0.000000\n",
              "6     0.300000\n",
              "7     0.500000\n",
              "8     0.000000\n",
              "9     0.000000\n",
              "10    0.687500\n",
              "11    0.000000\n",
              "12    0.000000\n",
              "13    0.000000\n",
              "14    0.000000\n",
              "15    0.000000\n",
              "16    0.438636\n",
              "17    0.400000\n",
              "18    0.500000\n",
              "19    0.500000\n",
              "20    0.500000\n",
              "21    0.900000\n",
              "22    0.916667\n",
              "23    0.433333\n",
              "24    0.400000\n",
              "25    0.600000\n",
              "26    0.000000\n",
              "27    0.600000\n",
              "28    0.000000\n",
              "29    0.000000\n",
              "30    0.000000\n",
              "31    0.600000\n",
              "32    0.000000\n",
              "33    0.000000\n",
              "34    0.000000\n",
              "35    0.300000\n",
              "36    0.000000\n",
              "dtype: float64"
            ]
          },
          "metadata": {
            "tags": []
          },
          "execution_count": 14
        }
      ]
    },
    {
      "cell_type": "code",
      "metadata": {
        "id": "qEgZQhvJH6y0",
        "colab_type": "code",
        "outputId": "69940718-9c6d-4db9-94ad-5418404f1507",
        "colab": {
          "base_uri": "https://localhost:8080/",
          "height": 34
        }
      },
      "source": [
        "TextBlob(text).sentiment"
      ],
      "execution_count": 15,
      "outputs": [
        {
          "output_type": "execute_result",
          "data": {
            "text/plain": [
              "Sentiment(polarity=-0.07060117302052787, subjectivity=0.5025659824046921)"
            ]
          },
          "metadata": {
            "tags": []
          },
          "execution_count": 15
        }
      ]
    },
    {
      "cell_type": "code",
      "metadata": {
        "id": "2frkcRWOCrBb",
        "colab_type": "code",
        "outputId": "96bc0ddf-c42a-4d35-979d-80b1842870db",
        "colab": {
          "base_uri": "https://localhost:8080/",
          "height": 67
        }
      },
      "source": [
        "\n",
        "import nltk\n",
        "nltk.download('punkt')"
      ],
      "execution_count": 16,
      "outputs": [
        {
          "output_type": "stream",
          "text": [
            "[nltk_data] Downloading package punkt to /root/nltk_data...\n",
            "[nltk_data]   Unzipping tokenizers/punkt.zip.\n"
          ],
          "name": "stdout"
        },
        {
          "output_type": "execute_result",
          "data": {
            "text/plain": [
              "True"
            ]
          },
          "metadata": {
            "tags": []
          },
          "execution_count": 16
        }
      ]
    },
    {
      "cell_type": "code",
      "metadata": {
        "id": "S0fVMyPC9NCQ",
        "colab_type": "code",
        "colab": {}
      },
      "source": [
        "import nltk\n",
        "text1 = \"heloo. 9jij ok;lk kl,klnkln iojoj. hnjknkj \"\n",
        "\n",
        "# split into sentences\n",
        "from nltk import sent_tokenize\n",
        "sentences = sent_tokenize(text)\n",
        "xyz = sentences[:100]"
      ],
      "execution_count": 0,
      "outputs": []
    },
    {
      "cell_type": "code",
      "metadata": {
        "id": "6ZIAeaWC8XKR",
        "colab_type": "code",
        "colab": {
          "base_uri": "https://localhost:8080/",
          "height": 1000
        },
        "outputId": "e855d9e3-ac6d-466c-cda7-c35b5b5cef65"
      },
      "source": [
        "import re\n",
        "\n",
        "l = \"|\".join(map(re.escape,['.', 'St.','U.S','Mr.', 'Mrs.', 'Ms.', 'Dr.', 'Prof.', 'Rev.', 'Capt.', 'Lt.-Col.', 'Col.', 'Lt.-Cmdr.', 'The Hon.', 'Cmdr.', 'Flt. Lt.', 'Brgdr.', 'Wng. Cmdr.', 'Group Capt.' ,'Rt.', 'Maj.-Gen.', 'Rear Admrl.', 'Esq.', 'Mx', 'Adv', 'Jr.']))\n",
        "\n",
        "e=\"Dear Mr. Foo, I would like to thank you. Because Lt.-Col. Collins told me blah blah. Bye.\"\n",
        "\n",
        "def do_repl(m):\n",
        "    s = m.group(1)\n",
        "    if s==\".\":\n",
        "        rval=\"\\n\"\n",
        "      \n",
        "    else:\n",
        "        rval = s\n",
        "    return rval\n",
        "\n",
        "z = re.sub(\"(\"+l+\")\",do_repl,dot2spaces)\n",
        "# bonus: leading blanks should be stripped even that's not the question\n",
        "z= re.sub(r\"\\s*\\n\\s*\",\"\\n\",z,re.DOTALL)\n",
        "print(z)"
      ],
      "execution_count": 18,
      "outputs": [
        {
          "output_type": "stream",
          "text": [
            "\n",
            "Administrative Summary\n",
            "ADMINISTRATIVE PROCEEDING\n",
            "File No\n",
            "3 - 18279\n",
            "SEC Charges Wells Fargo Advisors with Failing to Comply With Anti-Money Laundering\n",
            "Laws\n",
            "November 13, 2017 - The Securities and Exchange Commission today announced that Wells\n",
            "Fargo Advisors, LLC, a registered broker-dealer located in St. Louis, Missouri, agreed to settle\n",
            "charges that it failed to file and timely file a number of Suspicious Activity Reports (SARs)\n",
            "between approximately March 2012 and June 2013\n",
            "Most of these failures related to continuing\n",
            "suspicious activity occurring in accounts held at Wells Fargo Advisors’ U.S\n",
            "branch offices that\n",
            "focused on international customers\n",
            "To help detect potential violations of the securities laws and other money laundering violations,\n",
            "the Bank Secrecy Act (BSA) requires broker-dealers to file SARs to report suspicious \n",
            "\n",
            "transactions that occur through their firms\n",
            "  The BSA and the U.S\n",
            " Treasury Department’s \n",
            "\n",
            "Financial Crimes Enforcement Network (FinCEN) require the filing of a SAR within 30 days \n",
            "\n",
            "after a broker-dealer determines the activity is suspicious\n",
            "  For SARs identifying continuing \n",
            "\n",
            "activity of a previously-filed SAR, FinCEN provides administrative relief which allows broker-\n",
            "\n",
            "dealers to file SARs for continuing activity within 120 days after the previously-related SAR \n",
            "\n",
            "filing\n",
            "\n",
            "\n",
            "According to the SEC’s order, starting in approximately March 2012, new management over \n",
            "\n",
            "Wells Fargo Advisors’ AML program created confusion by telling the firm’s SAR investigators \n",
            "\n",
            "that they were filing too many SARs; that continuing activity SAR reviews were not a regulatory \n",
            "\n",
            "requirement; that they were to take steps to eliminate further continuing activity reviews; and \n",
            "\n",
            "that filing a SAR required “proof” of illegal activity\n",
            "  These statements created an environment \n",
            "\n",
            "in which the SAR investigators experienced difficulty in recommending and filing SARs, \n",
            "\n",
            "especially continuing activity SARs\n",
            "  Ultimately, Wells Fargo Advisors’ total SAR filings \n",
            "\n",
            "dropped by approximately 60% during an 11-month period and the firm failed to file or timely \n",
            "\n",
            "file at least 50 SARs, 45 of which related to continuing activity\n",
            " \n",
            "\n",
            "The SEC’s order instituting a settled administrative and cease-and-desist proceeding finds that \n",
            "\n",
            "Wells Fargo Advisors violated Section 17(a) of the Securities Exchange Act of 1934 and Rule \n",
            "\n",
            "17a-8\n",
            "  Without admitting or denying the SEC’s findings, Wells Fargo Advisors consented to a \n",
            "\n",
            "cease-and-desist order, a censure, and a civil penalty of $3,500,000\n",
            "  Wells Fargo Advisors also \n",
            "\n",
            "voluntarily undertakes to review and update its policies and procedures and develop and conduct \n",
            "\n",
            "additional training\n",
            "  \n",
            "\n",
            "The SEC’s investigation was conducted by Richard G\n",
            " Stoltz, Paul Mensheha and Anne C\n",
            " \n",
            "\n",
            "McKinley of the Chicago Regional Office\n",
            "  The examination that led to the investigation was \n",
            "\n",
            "conducted by Craig E\n",
            " Carlson, Keith Frisz, David Hoffmeyer, George J\n",
            " Jacobus, Paul \n",
            "\n",
            "Mensheha and Jennifer L\n",
            " Spicher\n",
            "  \n",
            "\n",
            "The SEC appreciates the assistance of FinCEN and the Financial Industry Regulatory Authority\n",
            " \n",
            "\n",
            "See also:  Order\n",
            "\n",
            "https://www\n",
            "sec\n",
            "gov/litigation/admin/2017/34-82054\n",
            "pdf\n",
            "\n",
            "\n"
          ],
          "name": "stdout"
        }
      ]
    },
    {
      "cell_type": "code",
      "metadata": {
        "id": "pcjr9FtAMQED",
        "colab_type": "code",
        "colab": {
          "base_uri": "https://localhost:8080/",
          "height": 1000
        },
        "outputId": "93493f36-320e-4de1-84d6-cff10fe4c628"
      },
      "source": [
        "pip install textract"
      ],
      "execution_count": 20,
      "outputs": [
        {
          "output_type": "stream",
          "text": [
            "Collecting textract\n",
            "  Downloading https://files.pythonhosted.org/packages/32/31/ef9451e6e48a1a57e337c5f20d4ef58c1a13d91560d2574c738b1320bb8d/textract-1.6.3-py3-none-any.whl\n",
            "Collecting extract-msg==0.23.1\n",
            "\u001b[?25l  Downloading https://files.pythonhosted.org/packages/a1/90/84485a914ed90adb5e87df17e626be04162fbba146dfecf34643659a4633/extract_msg-0.23.1-py2.py3-none-any.whl (45kB)\n",
            "\u001b[K     |████████████████████████████████| 51kB 4.8MB/s \n",
            "\u001b[?25hCollecting argcomplete==1.10.0\n",
            "  Downloading https://files.pythonhosted.org/packages/4d/82/f44c9661e479207348a979b1f6f063625d11dc4ca6256af053719bbb0124/argcomplete-1.10.0-py2.py3-none-any.whl\n",
            "Collecting beautifulsoup4==4.8.0\n",
            "\u001b[?25l  Downloading https://files.pythonhosted.org/packages/1a/b7/34eec2fe5a49718944e215fde81288eec1fa04638aa3fb57c1c6cd0f98c3/beautifulsoup4-4.8.0-py3-none-any.whl (97kB)\n",
            "\u001b[K     |████████████████████████████████| 102kB 6.8MB/s \n",
            "\u001b[?25hCollecting SpeechRecognition==3.8.1\n",
            "\u001b[?25l  Downloading https://files.pythonhosted.org/packages/26/e1/7f5678cd94ec1234269d23756dbdaa4c8cfaed973412f88ae8adf7893a50/SpeechRecognition-3.8.1-py2.py3-none-any.whl (32.8MB)\n",
            "\u001b[K     |████████████████████████████████| 32.8MB 119kB/s \n",
            "\u001b[?25hCollecting python-pptx==0.6.18\n",
            "\u001b[?25l  Downloading https://files.pythonhosted.org/packages/bf/86/eb979f7b0333ec769041aae36df8b9f1bd8bea5bbad44620663890dce561/python-pptx-0.6.18.tar.gz (8.9MB)\n",
            "\u001b[K     |████████████████████████████████| 8.9MB 46.0MB/s \n",
            "\u001b[?25hRequirement already satisfied: six==1.12.0 in /usr/local/lib/python3.6/dist-packages (from textract) (1.12.0)\n",
            "Requirement already satisfied: chardet==3.0.4 in /usr/local/lib/python3.6/dist-packages (from textract) (3.0.4)\n",
            "Collecting EbookLib==0.17.1\n",
            "\u001b[?25l  Downloading https://files.pythonhosted.org/packages/00/38/7d6ab2e569a9165249619d73b7bc6be0e713a899a3bc2513814b6598a84c/EbookLib-0.17.1.tar.gz (111kB)\n",
            "\u001b[K     |████████████████████████████████| 112kB 46.7MB/s \n",
            "\u001b[?25hCollecting docx2txt==0.8\n",
            "  Downloading https://files.pythonhosted.org/packages/7d/7d/60ee3f2b16d9bfdfa72e8599470a2c1a5b759cb113c6fe1006be28359327/docx2txt-0.8.tar.gz\n",
            "Collecting pdfminer.six==20181108\n",
            "\u001b[?25l  Downloading https://files.pythonhosted.org/packages/8a/fd/6e8746e6965d1a7ea8e97253e3d79e625da5547e8f376f88de5d024bacb9/pdfminer.six-20181108-py2.py3-none-any.whl (5.6MB)\n",
            "\u001b[K     |████████████████████████████████| 5.6MB 26.3MB/s \n",
            "\u001b[?25hCollecting xlrd==1.2.0\n",
            "\u001b[?25l  Downloading https://files.pythonhosted.org/packages/b0/16/63576a1a001752e34bf8ea62e367997530dc553b689356b9879339cf45a4/xlrd-1.2.0-py2.py3-none-any.whl (103kB)\n",
            "\u001b[K     |████████████████████████████████| 112kB 49.0MB/s \n",
            "\u001b[?25hCollecting imapclient==2.1.0\n",
            "\u001b[?25l  Downloading https://files.pythonhosted.org/packages/dc/39/e1c2c2c6e2356ab6ea81fcfc0a74b044b311d6a91a45300811d9a6077ef7/IMAPClient-2.1.0-py2.py3-none-any.whl (73kB)\n",
            "\u001b[K     |████████████████████████████████| 81kB 10.1MB/s \n",
            "\u001b[?25hRequirement already satisfied: tzlocal==1.5.1 in /usr/local/lib/python3.6/dist-packages (from extract-msg==0.23.1->textract) (1.5.1)\n",
            "Collecting olefile==0.46\n",
            "\u001b[?25l  Downloading https://files.pythonhosted.org/packages/34/81/e1ac43c6b45b4c5f8d9352396a14144bba52c8fec72a80f425f6a4d653ad/olefile-0.46.zip (112kB)\n",
            "\u001b[K     |████████████████████████████████| 112kB 60.4MB/s \n",
            "\u001b[?25hCollecting soupsieve>=1.2\n",
            "  Downloading https://files.pythonhosted.org/packages/81/94/03c0f04471fc245d08d0a99f7946ac228ca98da4fa75796c507f61e688c2/soupsieve-1.9.5-py2.py3-none-any.whl\n",
            "Requirement already satisfied: lxml>=3.1.0 in /usr/local/lib/python3.6/dist-packages (from python-pptx==0.6.18->textract) (4.2.6)\n",
            "Requirement already satisfied: Pillow>=3.3.2 in /usr/local/lib/python3.6/dist-packages (from python-pptx==0.6.18->textract) (6.2.2)\n",
            "Collecting XlsxWriter>=0.5.7\n",
            "\u001b[?25l  Downloading https://files.pythonhosted.org/packages/0d/0c/4376ce9d0773c9969271419d4c843bf9b845d831a555f5abb6229e74ac1e/XlsxWriter-1.2.7-py2.py3-none-any.whl (141kB)\n",
            "\u001b[K     |████████████████████████████████| 143kB 51.5MB/s \n",
            "\u001b[?25hRequirement already satisfied: sortedcontainers in /usr/local/lib/python3.6/dist-packages (from pdfminer.six==20181108->textract) (2.1.0)\n",
            "Collecting pycryptodome\n",
            "\u001b[?25l  Downloading https://files.pythonhosted.org/packages/54/e4/72132c31a4cedc58848615502c06cedcce1e1ff703b4c506a7171f005a75/pycryptodome-3.9.6-cp36-cp36m-manylinux1_x86_64.whl (13.7MB)\n",
            "\u001b[K     |████████████████████████████████| 13.7MB 178kB/s \n",
            "\u001b[?25hRequirement already satisfied: pytz in /usr/local/lib/python3.6/dist-packages (from tzlocal==1.5.1->extract-msg==0.23.1->textract) (2018.9)\n",
            "Building wheels for collected packages: python-pptx, EbookLib, docx2txt, olefile\n",
            "  Building wheel for python-pptx (setup.py) ... \u001b[?25l\u001b[?25hdone\n",
            "  Created wheel for python-pptx: filename=python_pptx-0.6.18-cp36-none-any.whl size=275706 sha256=d8aa9a0ecf57c279b92376755d05bbf93a6998e23f38434272f6a4664c7cc948\n",
            "  Stored in directory: /root/.cache/pip/wheels/1f/1f/2c/29acca422b420a0b5210bd2cd7e9669804520d602d2462f20b\n",
            "  Building wheel for EbookLib (setup.py) ... \u001b[?25l\u001b[?25hdone\n",
            "  Created wheel for EbookLib: filename=EbookLib-0.17.1-cp36-none-any.whl size=38164 sha256=31509896326dd7c1f44d4ca35caea7c43c7534389cae24e93dc4511d68fabde7\n",
            "  Stored in directory: /root/.cache/pip/wheels/84/11/01/951369cbbf8f96878786a1f4da68bd7ac19a5d945b38e03d54\n",
            "  Building wheel for docx2txt (setup.py) ... \u001b[?25l\u001b[?25hdone\n",
            "  Created wheel for docx2txt: filename=docx2txt-0.8-cp36-none-any.whl size=3963 sha256=ce4da07225390e37ff48bcb59d45a8111a0cd39c30d2582dd910a0dec3bdabb3\n",
            "  Stored in directory: /root/.cache/pip/wheels/b2/1f/26/a051209bbb77fc6bcfae2bb7e01fa0ff941b82292ab084d596\n",
            "  Building wheel for olefile (setup.py) ... \u001b[?25l\u001b[?25hdone\n",
            "  Created wheel for olefile: filename=olefile-0.46-py2.py3-none-any.whl size=35417 sha256=504af8e15497446dcd81d4cb2dcc854557e064801d029cc63d06af76b0b8cbea\n",
            "  Stored in directory: /root/.cache/pip/wheels/4b/f4/11/bc4166107c27f07fd7bba707ffcb439619197638a1ac986df3\n",
            "Successfully built python-pptx EbookLib docx2txt olefile\n",
            "Installing collected packages: imapclient, olefile, extract-msg, argcomplete, soupsieve, beautifulsoup4, SpeechRecognition, XlsxWriter, python-pptx, EbookLib, docx2txt, pycryptodome, pdfminer.six, xlrd, textract\n",
            "  Found existing installation: beautifulsoup4 4.6.3\n",
            "    Uninstalling beautifulsoup4-4.6.3:\n",
            "      Successfully uninstalled beautifulsoup4-4.6.3\n",
            "  Found existing installation: xlrd 1.1.0\n",
            "    Uninstalling xlrd-1.1.0:\n",
            "      Successfully uninstalled xlrd-1.1.0\n",
            "Successfully installed EbookLib-0.17.1 SpeechRecognition-3.8.1 XlsxWriter-1.2.7 argcomplete-1.10.0 beautifulsoup4-4.8.0 docx2txt-0.8 extract-msg-0.23.1 imapclient-2.1.0 olefile-0.46 pdfminer.six-20181108 pycryptodome-3.9.6 python-pptx-0.6.18 soupsieve-1.9.5 textract-1.6.3 xlrd-1.2.0\n"
          ],
          "name": "stdout"
        }
      ]
    },
    {
      "cell_type": "code",
      "metadata": {
        "id": "5QZd3PyLMDF4",
        "colab_type": "code",
        "outputId": "1030ed16-cf82-40a6-b8f6-b9fadecd1d1e",
        "colab": {
          "base_uri": "https://localhost:8080/",
          "height": 188
        }
      },
      "source": [
        "import re\n",
        "import textract\n",
        "#read the content of pdf as text\n",
        "text1 = textract.process('Wells_Fargo_Advisors_Proceedings.pdf').decode(\"utf-8\")\n",
        "#use four space as paragraph delimiter to convert the text into list of paragraphs.\n",
        "type(text1)\n",
        "x = re.split('\\s{3,}', text1)\n",
        "x"
      ],
      "execution_count": 21,
      "outputs": [
        {
          "output_type": "execute_result",
          "data": {
            "text/plain": [
              "['ADMINISTRATIVE PROCEEDING \\nFile No. 3 - 18279',\n",
              " 'SEC Charges Wells Fargo Advisors with Failing to Comply With Anti-Money Laundering \\nLaws',\n",
              " 'November 13, 2017 - The Securities and Exchange Commission today announced that Wells \\nFargo Advisors, LLC, a registered broker-dealer located in St. Louis, Missouri, agreed to settle \\ncharges that it failed to file and timely file a number of Suspicious Activity Reports (SARs) \\nbetween approximately March 2012 and June 2013.  Most of these failures related to continuing \\nsuspicious activity occurring in accounts held at Wells Fargo Advisors’ U.S. branch offices that \\nfocused on international customers.',\n",
              " 'To help detect potential violations of the securities laws and other money laundering violations, \\nthe Bank Secrecy Act (BSA) requires broker-dealers to file SARs to report suspicious \\ntransactions that occur through their firms.  The BSA and the U.S. Treasury Department’s \\nFinancial Crimes Enforcement Network (FinCEN) require the filing of a SAR within 30 days \\nafter a broker-dealer determines the activity is suspicious.  For SARs identifying continuing \\nactivity of a previously-filed SAR, FinCEN provides administrative relief which allows broker-\\ndealers to file SARs for continuing activity within 120 days after the previously-related SAR \\nfiling.',\n",
              " 'According to the SEC’s order, starting in approximately March 2012, new management over \\nWells Fargo Advisors’ AML program created confusion by telling the firm’s SAR investigators \\nthat they were filing too many SARs; that continuing activity SAR reviews were not a regulatory \\nrequirement; that they were to take steps to eliminate further continuing activity reviews; and \\nthat filing a SAR required “proof” of illegal activity.  These statements created an environment \\nin which the SAR investigators experienced difficulty in recommending and filing SARs, \\nespecially continuing activity SARs.  Ultimately, Wells Fargo Advisors’ total SAR filings \\ndropped by approximately 60% during an 11-month period and the firm failed to file or timely \\nfile at least 50 SARs, 45 of which related to continuing activity.',\n",
              " 'The SEC’s order instituting a settled administrative and cease-and-desist proceeding finds that \\nWells Fargo Advisors violated Section 17(a) of the Securities Exchange Act of 1934 and Rule \\n17a-8.  Without admitting or denying the SEC’s findings, Wells Fargo Advisors consented to a \\ncease-and-desist order, a censure, and a civil penalty of $3,500,000.  Wells Fargo Advisors also \\nvoluntarily undertakes to review and update its policies and procedures and develop and conduct \\nadditional training.',\n",
              " 'The SEC’s investigation was conducted by Richard G. Stoltz, Paul Mensheha and Anne C. \\nMcKinley of the Chicago Regional Office.  The examination that led to the investigation was \\nconducted by Craig E. Carlson, Keith Frisz, David Hoffmeyer, George J. Jacobus, Paul \\nMensheha and Jennifer L. Spicher.',\n",
              " 'The SEC appreciates the assistance of FinCEN and the Financial Industry Regulatory Authority. \\nSee also:  Order',\n",
              " '']"
            ]
          },
          "metadata": {
            "tags": []
          },
          "execution_count": 21
        }
      ]
    },
    {
      "cell_type": "code",
      "metadata": {
        "id": "HUGqFvDnhSTF",
        "colab_type": "code",
        "colab": {}
      },
      "source": [
        "print(text1)"
      ],
      "execution_count": 0,
      "outputs": []
    },
    {
      "cell_type": "code",
      "metadata": {
        "id": "9wmv1X3whvuq",
        "colab_type": "code",
        "outputId": "f802d724-ba1c-4d10-93ca-9681e3c02fe6",
        "colab": {
          "base_uri": "https://localhost:8080/",
          "height": 709
        }
      },
      "source": [
        "x1 = re.split('.\\n', text1)\n",
        "x1"
      ],
      "execution_count": 22,
      "outputs": [
        {
          "output_type": "execute_result",
          "data": {
            "text/plain": [
              "['ADMINISTRATIVE PROCEEDING',\n",
              " 'File No. 3 - 18279',\n",
              " '\\nSEC Charges Wells Fargo Advisors with Failing to Comply With Anti-Money Laundering',\n",
              " 'Laws',\n",
              " '\\nNovember 13, 2017 - The Securities and Exchange Commission today announced that Wells',\n",
              " 'Fargo Advisors, LLC, a registered broker-dealer located in St. Louis, Missouri, agreed to settle',\n",
              " 'charges that it failed to file and timely file a number of Suspicious Activity Reports (SARs)',\n",
              " 'between approximately March 2012 and June 2013.  Most of these failures related to continuing',\n",
              " 'suspicious activity occurring in accounts held at Wells Fargo Advisors’ U.S. branch offices that',\n",
              " 'focused on international customers.',\n",
              " '\\nTo help detect potential violations of the securities laws and other money laundering violations,',\n",
              " 'the Bank Secrecy Act (BSA) requires broker-dealers to file SARs to report suspicious',\n",
              " 'transactions that occur through their firms.  The BSA and the U.S. Treasury Department’s',\n",
              " 'Financial Crimes Enforcement Network (FinCEN) require the filing of a SAR within 30 days',\n",
              " 'after a broker-dealer determines the activity is suspicious.  For SARs identifying continuing',\n",
              " 'activity of a previously-filed SAR, FinCEN provides administrative relief which allows broker',\n",
              " 'dealers to file SARs for continuing activity within 120 days after the previously-related SAR',\n",
              " 'filing.  ',\n",
              " '\\nAccording to the SEC’s order, starting in approximately March 2012, new management over',\n",
              " 'Wells Fargo Advisors’ AML program created confusion by telling the firm’s SAR investigators',\n",
              " 'that they were filing too many SARs; that continuing activity SAR reviews were not a regulatory',\n",
              " 'requirement; that they were to take steps to eliminate further continuing activity reviews; and',\n",
              " 'that filing a SAR required “proof” of illegal activity.  These statements created an environment',\n",
              " 'in which the SAR investigators experienced difficulty in recommending and filing SARs,',\n",
              " 'especially continuing activity SARs.  Ultimately, Wells Fargo Advisors’ total SAR filings',\n",
              " 'dropped by approximately 60% during an 11-month period and the firm failed to file or timely',\n",
              " 'file at least 50 SARs, 45 of which related to continuing activity.   ',\n",
              " '\\nThe SEC’s order instituting a settled administrative and cease-and-desist proceeding finds that',\n",
              " 'Wells Fargo Advisors violated Section 17(a) of the Securities Exchange Act of 1934 and Rule',\n",
              " '17a-8.  Without admitting or denying the SEC’s findings, Wells Fargo Advisors consented to a',\n",
              " 'cease-and-desist order, a censure, and a civil penalty of $3,500,000.  Wells Fargo Advisors also',\n",
              " 'voluntarily undertakes to review and update its policies and procedures and develop and conduct',\n",
              " 'additional training. ',\n",
              " '\\nThe SEC’s investigation was conducted by Richard G. Stoltz, Paul Mensheha and Anne C.',\n",
              " 'McKinley of the Chicago Regional Office.  The examination that led to the investigation was',\n",
              " 'conducted by Craig E. Carlson, Keith Frisz, David Hoffmeyer, George J. Jacobus, Paul',\n",
              " 'Mensheha and Jennifer L. Spicher.    ',\n",
              " '\\nThe SEC appreciates the assistance of FinCEN and the Financial Industry Regulatory Authority.',\n",
              " 'See also:  Orde',\n",
              " '\\n\\x0c']"
            ]
          },
          "metadata": {
            "tags": []
          },
          "execution_count": 22
        }
      ]
    },
    {
      "cell_type": "code",
      "metadata": {
        "id": "WGw4aqn4ShIo",
        "colab_type": "code",
        "outputId": "ace62494-0241-44c8-e287-ead8198b85e5",
        "colab": {
          "base_uri": "https://localhost:8080/",
          "height": 709
        }
      },
      "source": [
        "def listtostring(s):\n",
        "  str1 = \"\\n\"\n",
        "  return (str1.join(s))\n",
        "l2s= listtostring(x)\n",
        "l2s\n",
        "print(l2s)\n"
      ],
      "execution_count": 23,
      "outputs": [
        {
          "output_type": "stream",
          "text": [
            "ADMINISTRATIVE PROCEEDING \n",
            "File No. 3 - 18279\n",
            "SEC Charges Wells Fargo Advisors with Failing to Comply With Anti-Money Laundering \n",
            "Laws\n",
            "November 13, 2017 - The Securities and Exchange Commission today announced that Wells \n",
            "Fargo Advisors, LLC, a registered broker-dealer located in St. Louis, Missouri, agreed to settle \n",
            "charges that it failed to file and timely file a number of Suspicious Activity Reports (SARs) \n",
            "between approximately March 2012 and June 2013.  Most of these failures related to continuing \n",
            "suspicious activity occurring in accounts held at Wells Fargo Advisors’ U.S. branch offices that \n",
            "focused on international customers.\n",
            "To help detect potential violations of the securities laws and other money laundering violations, \n",
            "the Bank Secrecy Act (BSA) requires broker-dealers to file SARs to report suspicious \n",
            "transactions that occur through their firms.  The BSA and the U.S. Treasury Department’s \n",
            "Financial Crimes Enforcement Network (FinCEN) require the filing of a SAR within 30 days \n",
            "after a broker-dealer determines the activity is suspicious.  For SARs identifying continuing \n",
            "activity of a previously-filed SAR, FinCEN provides administrative relief which allows broker-\n",
            "dealers to file SARs for continuing activity within 120 days after the previously-related SAR \n",
            "filing.\n",
            "According to the SEC’s order, starting in approximately March 2012, new management over \n",
            "Wells Fargo Advisors’ AML program created confusion by telling the firm’s SAR investigators \n",
            "that they were filing too many SARs; that continuing activity SAR reviews were not a regulatory \n",
            "requirement; that they were to take steps to eliminate further continuing activity reviews; and \n",
            "that filing a SAR required “proof” of illegal activity.  These statements created an environment \n",
            "in which the SAR investigators experienced difficulty in recommending and filing SARs, \n",
            "especially continuing activity SARs.  Ultimately, Wells Fargo Advisors’ total SAR filings \n",
            "dropped by approximately 60% during an 11-month period and the firm failed to file or timely \n",
            "file at least 50 SARs, 45 of which related to continuing activity.\n",
            "The SEC’s order instituting a settled administrative and cease-and-desist proceeding finds that \n",
            "Wells Fargo Advisors violated Section 17(a) of the Securities Exchange Act of 1934 and Rule \n",
            "17a-8.  Without admitting or denying the SEC’s findings, Wells Fargo Advisors consented to a \n",
            "cease-and-desist order, a censure, and a civil penalty of $3,500,000.  Wells Fargo Advisors also \n",
            "voluntarily undertakes to review and update its policies and procedures and develop and conduct \n",
            "additional training.\n",
            "The SEC’s investigation was conducted by Richard G. Stoltz, Paul Mensheha and Anne C. \n",
            "McKinley of the Chicago Regional Office.  The examination that led to the investigation was \n",
            "conducted by Craig E. Carlson, Keith Frisz, David Hoffmeyer, George J. Jacobus, Paul \n",
            "Mensheha and Jennifer L. Spicher.\n",
            "The SEC appreciates the assistance of FinCEN and the Financial Industry Regulatory Authority. \n",
            "See also:  Order\n",
            "\n"
          ],
          "name": "stdout"
        }
      ]
    },
    {
      "cell_type": "code",
      "metadata": {
        "id": "w2SWin_6YFk3",
        "colab_type": "code",
        "outputId": "62c4f5d3-3717-4ea9-e54c-29b9a235fcdd",
        "colab": {
          "base_uri": "https://localhost:8080/",
          "height": 138
        }
      },
      "source": [
        "finallist = l2s.split('.\\n')\n",
        "finallist"
      ],
      "execution_count": 24,
      "outputs": [
        {
          "output_type": "execute_result",
          "data": {
            "text/plain": [
              "['ADMINISTRATIVE PROCEEDING \\nFile No. 3 - 18279\\nSEC Charges Wells Fargo Advisors with Failing to Comply With Anti-Money Laundering \\nLaws\\nNovember 13, 2017 - The Securities and Exchange Commission today announced that Wells \\nFargo Advisors, LLC, a registered broker-dealer located in St. Louis, Missouri, agreed to settle \\ncharges that it failed to file and timely file a number of Suspicious Activity Reports (SARs) \\nbetween approximately March 2012 and June 2013.  Most of these failures related to continuing \\nsuspicious activity occurring in accounts held at Wells Fargo Advisors’ U.S. branch offices that \\nfocused on international customers',\n",
              " 'To help detect potential violations of the securities laws and other money laundering violations, \\nthe Bank Secrecy Act (BSA) requires broker-dealers to file SARs to report suspicious \\ntransactions that occur through their firms.  The BSA and the U.S. Treasury Department’s \\nFinancial Crimes Enforcement Network (FinCEN) require the filing of a SAR within 30 days \\nafter a broker-dealer determines the activity is suspicious.  For SARs identifying continuing \\nactivity of a previously-filed SAR, FinCEN provides administrative relief which allows broker-\\ndealers to file SARs for continuing activity within 120 days after the previously-related SAR \\nfiling',\n",
              " 'According to the SEC’s order, starting in approximately March 2012, new management over \\nWells Fargo Advisors’ AML program created confusion by telling the firm’s SAR investigators \\nthat they were filing too many SARs; that continuing activity SAR reviews were not a regulatory \\nrequirement; that they were to take steps to eliminate further continuing activity reviews; and \\nthat filing a SAR required “proof” of illegal activity.  These statements created an environment \\nin which the SAR investigators experienced difficulty in recommending and filing SARs, \\nespecially continuing activity SARs.  Ultimately, Wells Fargo Advisors’ total SAR filings \\ndropped by approximately 60% during an 11-month period and the firm failed to file or timely \\nfile at least 50 SARs, 45 of which related to continuing activity',\n",
              " 'The SEC’s order instituting a settled administrative and cease-and-desist proceeding finds that \\nWells Fargo Advisors violated Section 17(a) of the Securities Exchange Act of 1934 and Rule \\n17a-8.  Without admitting or denying the SEC’s findings, Wells Fargo Advisors consented to a \\ncease-and-desist order, a censure, and a civil penalty of $3,500,000.  Wells Fargo Advisors also \\nvoluntarily undertakes to review and update its policies and procedures and develop and conduct \\nadditional training',\n",
              " 'The SEC’s investigation was conducted by Richard G. Stoltz, Paul Mensheha and Anne C. \\nMcKinley of the Chicago Regional Office.  The examination that led to the investigation was \\nconducted by Craig E. Carlson, Keith Frisz, David Hoffmeyer, George J. Jacobus, Paul \\nMensheha and Jennifer L. Spicher',\n",
              " 'The SEC appreciates the assistance of FinCEN and the Financial Industry Regulatory Authority. \\nSee also:  Order\\n']"
            ]
          },
          "metadata": {
            "tags": []
          },
          "execution_count": 24
        }
      ]
    },
    {
      "cell_type": "code",
      "metadata": {
        "id": "OCnPl0ABY0lv",
        "colab_type": "code",
        "colab": {}
      },
      "source": [
        "df = pd.DataFrame(finallist)"
      ],
      "execution_count": 0,
      "outputs": []
    },
    {
      "cell_type": "code",
      "metadata": {
        "id": "mveImxA4ZW7e",
        "colab_type": "code",
        "outputId": "10276f78-073e-4b35-e01b-553b4d35914f",
        "colab": {
          "base_uri": "https://localhost:8080/",
          "height": 134
        }
      },
      "source": [
        "finalseries = pd.Series(finallist)\n",
        "finalseries"
      ],
      "execution_count": 25,
      "outputs": [
        {
          "output_type": "execute_result",
          "data": {
            "text/plain": [
              "0    ADMINISTRATIVE PROCEEDING \\nFile No. 3 - 18279...\n",
              "1    To help detect potential violations of the sec...\n",
              "2    According to the SEC’s order, starting in appr...\n",
              "3    The SEC’s order instituting a settled administ...\n",
              "4    The SEC’s investigation was conducted by Richa...\n",
              "5    The SEC appreciates the assistance of FinCEN a...\n",
              "dtype: object"
            ]
          },
          "metadata": {
            "tags": []
          },
          "execution_count": 25
        }
      ]
    },
    {
      "cell_type": "code",
      "metadata": {
        "id": "GOdj7H-ZN9WN",
        "colab_type": "code",
        "outputId": "0784fb0d-f32c-44ba-fc23-03a5c3162adc",
        "colab": {
          "base_uri": "https://localhost:8080/",
          "height": 34
        }
      },
      "source": [
        "polarity = finalseries.apply(pol)\n",
        "type(polarity)\n",
        "subject = finalseries.apply(sub)\n",
        "type(subject)"
      ],
      "execution_count": 26,
      "outputs": [
        {
          "output_type": "execute_result",
          "data": {
            "text/plain": [
              "pandas.core.series.Series"
            ]
          },
          "metadata": {
            "tags": []
          },
          "execution_count": 26
        }
      ]
    },
    {
      "cell_type": "code",
      "metadata": {
        "id": "eye17g2AMDN5",
        "colab_type": "code",
        "outputId": "c35d1bc7-8e53-42cc-d7bf-f2c1a23ac3ed",
        "colab": {
          "base_uri": "https://localhost:8080/",
          "height": 34
        }
      },
      "source": [
        "frame = {'Data':[finallist]}\n",
        "dataframe = pd.DataFrame(zip(finallist,polarity,subject),columns=['Data','Polarity','Subjectivity'])\n",
        "type(dataframe)\n",
        "\n",
        "\n",
        "\n"
      ],
      "execution_count": 43,
      "outputs": [
        {
          "output_type": "execute_result",
          "data": {
            "text/plain": [
              "pandas.core.frame.DataFrame"
            ]
          },
          "metadata": {
            "tags": []
          },
          "execution_count": 43
        }
      ]
    },
    {
      "cell_type": "code",
      "metadata": {
        "id": "4uOxNuhoPM_q",
        "colab_type": "code",
        "colab": {}
      },
      "source": [
        ""
      ],
      "execution_count": 0,
      "outputs": []
    },
    {
      "cell_type": "markdown",
      "metadata": {
        "id": "_Nk1shkhYXSw",
        "colab_type": "text"
      },
      "source": [
        "**Saving dataframe to CSV**"
      ]
    },
    {
      "cell_type": "code",
      "metadata": {
        "id": "rXd4N1imYd-3",
        "colab_type": "code",
        "colab": {}
      },
      "source": [
        "dataframe.to_csv('Rule_Based_Sentiment.csv', index_label='index')"
      ],
      "execution_count": 0,
      "outputs": []
    },
    {
      "cell_type": "code",
      "metadata": {
        "id": "DDQ32ILKD4wI",
        "colab_type": "code",
        "colab": {}
      },
      "source": [
        ""
      ],
      "execution_count": 0,
      "outputs": []
    },
    {
      "cell_type": "markdown",
      "metadata": {
        "id": "YCAf04nUcMu_",
        "colab_type": "text"
      },
      "source": [
        "Creating a Document Term Matrix"
      ]
    },
    {
      "cell_type": "code",
      "metadata": {
        "id": "RCZX-_TmcSvW",
        "colab_type": "code",
        "colab": {}
      },
      "source": [
        "import shorttext\n",
        "import numpy as np\n",
        "import pandas as pd\n",
        "import re"
      ],
      "execution_count": 0,
      "outputs": []
    },
    {
      "cell_type": "code",
      "metadata": {
        "id": "VzdijLF9g1lq",
        "colab_type": "code",
        "colab": {}
      },
      "source": [
        "from stemming.porter import stem\n",
        " "
      ],
      "execution_count": 0,
      "outputs": []
    },
    {
      "cell_type": "code",
      "metadata": {
        "id": "LTy7u9h4c11p",
        "colab_type": "code",
        "colab": {}
      },
      "source": [
        "pipeline = [lambda s: re.sub('[^\\w\\s]', '', s),\n",
        "            lambda s: re.sub('[\\d]', '', s),\n",
        "            lambda s: s.lower(),\n",
        "            \n",
        " ]\n",
        "txtpreproceesor = shorttext.utils.text_preprocessor(pipeline)\n",
        "txtpreproceesor"
      ],
      "execution_count": 0,
      "outputs": []
    },
    {
      "cell_type": "code",
      "metadata": {
        "id": "cmFkXmSwc3Xs",
        "colab_type": "code",
        "colab": {
          "base_uri": "https://localhost:8080/",
          "height": 225
        },
        "outputId": "ecc16884-cc8f-4f4d-c00e-869effd8cf07"
      },
      "source": [
        "docx = pd.read_csv('Rule_Based_Sentiment.csv')\n",
        "docx"
      ],
      "execution_count": 105,
      "outputs": [
        {
          "output_type": "execute_result",
          "data": {
            "text/html": [
              "<div>\n",
              "<style scoped>\n",
              "    .dataframe tbody tr th:only-of-type {\n",
              "        vertical-align: middle;\n",
              "    }\n",
              "\n",
              "    .dataframe tbody tr th {\n",
              "        vertical-align: top;\n",
              "    }\n",
              "\n",
              "    .dataframe thead th {\n",
              "        text-align: right;\n",
              "    }\n",
              "</style>\n",
              "<table border=\"1\" class=\"dataframe\">\n",
              "  <thead>\n",
              "    <tr style=\"text-align: right;\">\n",
              "      <th></th>\n",
              "      <th>index</th>\n",
              "      <th>Data</th>\n",
              "      <th>Polarity</th>\n",
              "      <th>Subjectivity</th>\n",
              "    </tr>\n",
              "  </thead>\n",
              "  <tbody>\n",
              "    <tr>\n",
              "      <th>0</th>\n",
              "      <td>0</td>\n",
              "      <td>ADMINISTRATIVE PROCEEDING \\nFile No. 3 - 18279...</td>\n",
              "      <td>-0.083333</td>\n",
              "      <td>0.400000</td>\n",
              "    </tr>\n",
              "    <tr>\n",
              "      <th>1</th>\n",
              "      <td>1</td>\n",
              "      <td>To help detect potential violations of the sec...</td>\n",
              "      <td>-0.041667</td>\n",
              "      <td>0.458333</td>\n",
              "    </tr>\n",
              "    <tr>\n",
              "      <th>2</th>\n",
              "      <td>2</td>\n",
              "      <td>According to the SEC’s order, starting in appr...</td>\n",
              "      <td>-0.068449</td>\n",
              "      <td>0.553209</td>\n",
              "    </tr>\n",
              "    <tr>\n",
              "      <th>3</th>\n",
              "      <td>3</td>\n",
              "      <td>The SEC’s order instituting a settled administ...</td>\n",
              "      <td>-0.100000</td>\n",
              "      <td>0.600000</td>\n",
              "    </tr>\n",
              "    <tr>\n",
              "      <th>4</th>\n",
              "      <td>4</td>\n",
              "      <td>The SEC’s investigation was conducted by Richa...</td>\n",
              "      <td>-0.100000</td>\n",
              "      <td>0.600000</td>\n",
              "    </tr>\n",
              "    <tr>\n",
              "      <th>5</th>\n",
              "      <td>5</td>\n",
              "      <td>The SEC appreciates the assistance of FinCEN a...</td>\n",
              "      <td>-0.050000</td>\n",
              "      <td>0.300000</td>\n",
              "    </tr>\n",
              "  </tbody>\n",
              "</table>\n",
              "</div>"
            ],
            "text/plain": [
              "   index  ... Subjectivity\n",
              "0      0  ...     0.400000\n",
              "1      1  ...     0.458333\n",
              "2      2  ...     0.553209\n",
              "3      3  ...     0.600000\n",
              "4      4  ...     0.600000\n",
              "5      5  ...     0.300000\n",
              "\n",
              "[6 rows x 4 columns]"
            ]
          },
          "metadata": {
            "tags": []
          },
          "execution_count": 105
        }
      ]
    },
    {
      "cell_type": "markdown",
      "metadata": {
        "id": "6IRjjQBbIcnO",
        "colab_type": "text"
      },
      "source": [
        "# *Topic Modelling: Attempt one*"
      ]
    },
    {
      "cell_type": "markdown",
      "metadata": {
        "id": "GqkCCI01ZI4r",
        "colab_type": "text"
      },
      "source": [
        "adding CSV\n",
        "\n"
      ]
    },
    {
      "cell_type": "code",
      "metadata": {
        "id": "DwstweN0Ipbc",
        "colab_type": "code",
        "colab": {}
      },
      "source": [
        "docids = list(usprezdf['index'])\n",
        "corpus = [txtpreproceesor(Data).split(' ') for Data in usprezdf['Data']]\n",
        "# corpus = [txtpreproceesor(Data).split(' ') for Data in usprezdf['Data']]\n",
        "corpus"
      ],
      "execution_count": 0,
      "outputs": []
    },
    {
      "cell_type": "code",
      "metadata": {
        "id": "QGpe3vSILOxY",
        "colab_type": "code",
        "colab": {
          "base_uri": "https://localhost:8080/",
          "height": 34
        },
        "outputId": "5f87010f-0096-4902-f94d-9c3cb73f3202"
      },
      "source": [
        "dtm = shorttext.utils.DocumentTermMatrix(corpus, docids=docids, tfidf=False)\n",
        "print(dtm)"
      ],
      "execution_count": 87,
      "outputs": [
        {
          "output_type": "stream",
          "text": [
            "<shorttext.utils.dtm.DocumentTermMatrix object at 0x7fdf5e3a7780>\n"
          ],
          "name": "stdout"
        }
      ]
    },
    {
      "cell_type": "code",
      "metadata": {
        "id": "0NajWF52hwyC",
        "colab_type": "code",
        "colab": {}
      },
      "source": [
        "dtm.get_doc_tokens('paul')"
      ],
      "execution_count": 0,
      "outputs": []
    },
    {
      "cell_type": "code",
      "metadata": {
        "id": "UkZ7HMF8ieBc",
        "colab_type": "code",
        "colab": {}
      },
      "source": [
        "dtm.get_doc_frequency(stem('change'))"
      ],
      "execution_count": 0,
      "outputs": []
    },
    {
      "cell_type": "code",
      "metadata": {
        "id": "0EFxzVOGjZfe",
        "colab_type": "code",
        "colab": {
          "base_uri": "https://localhost:8080/",
          "height": 322
        },
        "outputId": "38547356-29cc-4180-ab7d-64cb08b554b6"
      },
      "source": [
        "pip install gensim"
      ],
      "execution_count": 98,
      "outputs": [
        {
          "output_type": "stream",
          "text": [
            "Requirement already satisfied: gensim in /usr/local/lib/python3.6/dist-packages (3.6.0)\n",
            "Requirement already satisfied: six>=1.5.0 in /usr/local/lib/python3.6/dist-packages (from gensim) (1.12.0)\n",
            "Requirement already satisfied: smart-open>=1.2.1 in /usr/local/lib/python3.6/dist-packages (from gensim) (1.9.0)\n",
            "Requirement already satisfied: scipy>=0.18.1 in /usr/local/lib/python3.6/dist-packages (from gensim) (1.4.1)\n",
            "Requirement already satisfied: numpy>=1.11.3 in /usr/local/lib/python3.6/dist-packages (from gensim) (1.17.5)\n",
            "Requirement already satisfied: requests in /usr/local/lib/python3.6/dist-packages (from smart-open>=1.2.1->gensim) (2.21.0)\n",
            "Requirement already satisfied: boto3 in /usr/local/lib/python3.6/dist-packages (from smart-open>=1.2.1->gensim) (1.11.9)\n",
            "Requirement already satisfied: boto>=2.32 in /usr/local/lib/python3.6/dist-packages (from smart-open>=1.2.1->gensim) (2.49.0)\n",
            "Requirement already satisfied: urllib3<1.25,>=1.21.1 in /usr/local/lib/python3.6/dist-packages (from requests->smart-open>=1.2.1->gensim) (1.24.3)\n",
            "Requirement already satisfied: certifi>=2017.4.17 in /usr/local/lib/python3.6/dist-packages (from requests->smart-open>=1.2.1->gensim) (2019.11.28)\n",
            "Requirement already satisfied: idna<2.9,>=2.5 in /usr/local/lib/python3.6/dist-packages (from requests->smart-open>=1.2.1->gensim) (2.8)\n",
            "Requirement already satisfied: chardet<3.1.0,>=3.0.2 in /usr/local/lib/python3.6/dist-packages (from requests->smart-open>=1.2.1->gensim) (3.0.4)\n",
            "Requirement already satisfied: botocore<1.15.0,>=1.14.9 in /usr/local/lib/python3.6/dist-packages (from boto3->smart-open>=1.2.1->gensim) (1.14.9)\n",
            "Requirement already satisfied: jmespath<1.0.0,>=0.7.1 in /usr/local/lib/python3.6/dist-packages (from boto3->smart-open>=1.2.1->gensim) (0.9.4)\n",
            "Requirement already satisfied: s3transfer<0.4.0,>=0.3.0 in /usr/local/lib/python3.6/dist-packages (from boto3->smart-open>=1.2.1->gensim) (0.3.2)\n",
            "Requirement already satisfied: docutils<0.16,>=0.10 in /usr/local/lib/python3.6/dist-packages (from botocore<1.15.0,>=1.14.9->boto3->smart-open>=1.2.1->gensim) (0.15.2)\n",
            "Requirement already satisfied: python-dateutil<3.0.0,>=2.1 in /usr/local/lib/python3.6/dist-packages (from botocore<1.15.0,>=1.14.9->boto3->smart-open>=1.2.1->gensim) (2.6.1)\n"
          ],
          "name": "stdout"
        }
      ]
    },
    {
      "cell_type": "code",
      "metadata": {
        "id": "bYWlnvEcjhiw",
        "colab_type": "code",
        "colab": {}
      },
      "source": [
        "from gensim import matutils, models\n",
        "import scipy.sparse"
      ],
      "execution_count": 0,
      "outputs": []
    },
    {
      "cell_type": "code",
      "metadata": {
        "id": "OfQLgY1DjvDH",
        "colab_type": "code",
        "colab": {
          "base_uri": "https://localhost:8080/",
          "height": 233
        },
        "outputId": "18ed97a9-ac3d-4e34-b9cb-92fb84f80bc9"
      },
      "source": [
        "tdm = usprezdf.transpose()\n",
        "tdm.head()"
      ],
      "execution_count": 102,
      "outputs": [
        {
          "output_type": "execute_result",
          "data": {
            "text/html": [
              "<div>\n",
              "<style scoped>\n",
              "    .dataframe tbody tr th:only-of-type {\n",
              "        vertical-align: middle;\n",
              "    }\n",
              "\n",
              "    .dataframe tbody tr th {\n",
              "        vertical-align: top;\n",
              "    }\n",
              "\n",
              "    .dataframe thead th {\n",
              "        text-align: right;\n",
              "    }\n",
              "</style>\n",
              "<table border=\"1\" class=\"dataframe\">\n",
              "  <thead>\n",
              "    <tr style=\"text-align: right;\">\n",
              "      <th></th>\n",
              "      <th>0</th>\n",
              "      <th>1</th>\n",
              "      <th>2</th>\n",
              "      <th>3</th>\n",
              "      <th>4</th>\n",
              "      <th>5</th>\n",
              "    </tr>\n",
              "  </thead>\n",
              "  <tbody>\n",
              "    <tr>\n",
              "      <th>index</th>\n",
              "      <td>0</td>\n",
              "      <td>1</td>\n",
              "      <td>2</td>\n",
              "      <td>3</td>\n",
              "      <td>4</td>\n",
              "      <td>5</td>\n",
              "    </tr>\n",
              "    <tr>\n",
              "      <th>Data</th>\n",
              "      <td>ADMINISTRATIVE PROCEEDING \\nFile No. 3 - 18279...</td>\n",
              "      <td>To help detect potential violations of the sec...</td>\n",
              "      <td>According to the SEC’s order, starting in appr...</td>\n",
              "      <td>The SEC’s order instituting a settled administ...</td>\n",
              "      <td>The SEC’s investigation was conducted by Richa...</td>\n",
              "      <td>The SEC appreciates the assistance of FinCEN a...</td>\n",
              "    </tr>\n",
              "    <tr>\n",
              "      <th>Polarity</th>\n",
              "      <td>-0.0833333</td>\n",
              "      <td>-0.0416667</td>\n",
              "      <td>-0.0684492</td>\n",
              "      <td>-0.1</td>\n",
              "      <td>-0.1</td>\n",
              "      <td>-0.05</td>\n",
              "    </tr>\n",
              "    <tr>\n",
              "      <th>Subjectivity</th>\n",
              "      <td>0.4</td>\n",
              "      <td>0.458333</td>\n",
              "      <td>0.553209</td>\n",
              "      <td>0.6</td>\n",
              "      <td>0.6</td>\n",
              "      <td>0.3</td>\n",
              "    </tr>\n",
              "  </tbody>\n",
              "</table>\n",
              "</div>"
            ],
            "text/plain": [
              "                                                              0  ...                                                  5\n",
              "index                                                         0  ...                                                  5\n",
              "Data          ADMINISTRATIVE PROCEEDING \\nFile No. 3 - 18279...  ...  The SEC appreciates the assistance of FinCEN a...\n",
              "Polarity                                             -0.0833333  ...                                              -0.05\n",
              "Subjectivity                                                0.4  ...                                                0.3\n",
              "\n",
              "[4 rows x 6 columns]"
            ]
          },
          "metadata": {
            "tags": []
          },
          "execution_count": 102
        }
      ]
    },
    {
      "cell_type": "code",
      "metadata": {
        "id": "_bt9IzUWt2Za",
        "colab_type": "code",
        "colab": {}
      },
      "source": [
        "from nltk import word_tokenize, pos_tag\n",
        "\n",
        "def nouns(text):\n",
        "    '''Given a string of text, tokenize the text and pull out only the nouns.'''\n",
        "    is_noun = lambda pos: pos[:2] == 'NN'\n",
        "    tokenized = word_tokenize(text)\n",
        "    all_nouns = [word for (word, pos) in pos_tag(tokenized) if is_noun(pos)] \n",
        "    return ' '.join(all_nouns)"
      ],
      "execution_count": 0,
      "outputs": []
    },
    {
      "cell_type": "code",
      "metadata": {
        "id": "lblA82EnuyCe",
        "colab_type": "code",
        "colab": {
          "base_uri": "https://localhost:8080/",
          "height": 84
        },
        "outputId": "73ac113a-f38c-4a97-ca23-d0e90d918206"
      },
      "source": [
        "import nltk\n",
        "nltk.download('averaged_perceptron_tagger')"
      ],
      "execution_count": 115,
      "outputs": [
        {
          "output_type": "stream",
          "text": [
            "[nltk_data] Downloading package averaged_perceptron_tagger to\n",
            "[nltk_data]     /root/nltk_data...\n",
            "[nltk_data]   Unzipping taggers/averaged_perceptron_tagger.zip.\n"
          ],
          "name": "stdout"
        },
        {
          "output_type": "execute_result",
          "data": {
            "text/plain": [
              "True"
            ]
          },
          "metadata": {
            "tags": []
          },
          "execution_count": 115
        }
      ]
    },
    {
      "cell_type": "code",
      "metadata": {
        "id": "iVvBDMojt5PY",
        "colab_type": "code",
        "colab": {
          "base_uri": "https://localhost:8080/",
          "height": 225
        },
        "outputId": "484ed3ac-8df0-455e-cbd6-e0d417c33087"
      },
      "source": [
        "\n",
        "data_nouns = pd.DataFrame(docx.Data.apply(nouns))\n",
        "data_nouns"
      ],
      "execution_count": 116,
      "outputs": [
        {
          "output_type": "execute_result",
          "data": {
            "text/html": [
              "<div>\n",
              "<style scoped>\n",
              "    .dataframe tbody tr th:only-of-type {\n",
              "        vertical-align: middle;\n",
              "    }\n",
              "\n",
              "    .dataframe tbody tr th {\n",
              "        vertical-align: top;\n",
              "    }\n",
              "\n",
              "    .dataframe thead th {\n",
              "        text-align: right;\n",
              "    }\n",
              "</style>\n",
              "<table border=\"1\" class=\"dataframe\">\n",
              "  <thead>\n",
              "    <tr style=\"text-align: right;\">\n",
              "      <th></th>\n",
              "      <th>Data</th>\n",
              "    </tr>\n",
              "  </thead>\n",
              "  <tbody>\n",
              "    <tr>\n",
              "      <th>0</th>\n",
              "      <td>PROCEEDING File No SEC Charges Wells Fargo Adv...</td>\n",
              "    </tr>\n",
              "    <tr>\n",
              "      <th>1</th>\n",
              "      <td>violations securities laws money violations Ba...</td>\n",
              "    </tr>\n",
              "    <tr>\n",
              "      <th>2</th>\n",
              "      <td>SEC ’ s order March management Wells Fargo Adv...</td>\n",
              "    </tr>\n",
              "    <tr>\n",
              "      <th>3</th>\n",
              "      <td>SEC ’ order proceeding Wells Fargo Advisors Se...</td>\n",
              "    </tr>\n",
              "    <tr>\n",
              "      <th>4</th>\n",
              "      <td>SEC ’ investigation Richard G. Stoltz Paul Men...</td>\n",
              "    </tr>\n",
              "    <tr>\n",
              "      <th>5</th>\n",
              "      <td>SEC assistance FinCEN Financial Industry Regul...</td>\n",
              "    </tr>\n",
              "  </tbody>\n",
              "</table>\n",
              "</div>"
            ],
            "text/plain": [
              "                                                Data\n",
              "0  PROCEEDING File No SEC Charges Wells Fargo Adv...\n",
              "1  violations securities laws money violations Ba...\n",
              "2  SEC ’ s order March management Wells Fargo Adv...\n",
              "3  SEC ’ order proceeding Wells Fargo Advisors Se...\n",
              "4  SEC ’ investigation Richard G. Stoltz Paul Men...\n",
              "5  SEC assistance FinCEN Financial Industry Regul..."
            ]
          },
          "metadata": {
            "tags": []
          },
          "execution_count": 116
        }
      ]
    },
    {
      "cell_type": "code",
      "metadata": {
        "id": "IbPDfvyPvT_L",
        "colab_type": "code",
        "colab": {
          "base_uri": "https://localhost:8080/",
          "height": 274
        },
        "outputId": "96b41c7c-ab3d-4b91-c454-9009b3fd26af"
      },
      "source": [
        "# Create a new document-term matrix using only nouns\n",
        "from sklearn.feature_extraction import text\n",
        "from sklearn.feature_extraction.text import CountVectorizer\n",
        "\n",
        "# Re-add the additional stop words since we are recreating the document-term matrix\n",
        "add_stop_words = ['like', 'im', 'know', 'just', 'dont', 'thats', 'right', 'people',\n",
        "                  'youre', 'got', 'gonna', 'time', 'think', 'yeah', 'said']\n",
        "stop_words = text.ENGLISH_STOP_WORDS.union(add_stop_words)\n",
        "\n",
        "# Recreate a document-term matrix with only nouns\n",
        "cvn = CountVectorizer(stop_words=stop_words)\n",
        "data_cvn = cvn.fit_transform(data_nouns.Data)\n",
        "data_dtmn = pd.DataFrame(data_cvn.toarray(), columns=cvn.get_feature_names())\n",
        "data_dtmn.index = data_nouns.index\n",
        "data_dtmn"
      ],
      "execution_count": 118,
      "outputs": [
        {
          "output_type": "execute_result",
          "data": {
            "text/html": [
              "<div>\n",
              "<style scoped>\n",
              "    .dataframe tbody tr th:only-of-type {\n",
              "        vertical-align: middle;\n",
              "    }\n",
              "\n",
              "    .dataframe tbody tr th {\n",
              "        vertical-align: top;\n",
              "    }\n",
              "\n",
              "    .dataframe thead th {\n",
              "        text-align: right;\n",
              "    }\n",
              "</style>\n",
              "<table border=\"1\" class=\"dataframe\">\n",
              "  <thead>\n",
              "    <tr style=\"text-align: right;\">\n",
              "      <th></th>\n",
              "      <th>accounts</th>\n",
              "      <th>act</th>\n",
              "      <th>activity</th>\n",
              "      <th>advisors</th>\n",
              "      <th>aml</th>\n",
              "      <th>anne</th>\n",
              "      <th>anti</th>\n",
              "      <th>assistance</th>\n",
              "      <th>authority</th>\n",
              "      <th>bank</th>\n",
              "      <th>branch</th>\n",
              "      <th>broker</th>\n",
              "      <th>bsa</th>\n",
              "      <th>carlson</th>\n",
              "      <th>censure</th>\n",
              "      <th>charges</th>\n",
              "      <th>chicago</th>\n",
              "      <th>commission</th>\n",
              "      <th>confusion</th>\n",
              "      <th>craig</th>\n",
              "      <th>crimes</th>\n",
              "      <th>customers</th>\n",
              "      <th>david</th>\n",
              "      <th>days</th>\n",
              "      <th>dealer</th>\n",
              "      <th>dealers</th>\n",
              "      <th>department</th>\n",
              "      <th>difficulty</th>\n",
              "      <th>enforcement</th>\n",
              "      <th>environment</th>\n",
              "      <th>examination</th>\n",
              "      <th>exchange</th>\n",
              "      <th>failures</th>\n",
              "      <th>fargo</th>\n",
              "      <th>file</th>\n",
              "      <th>filing</th>\n",
              "      <th>filings</th>\n",
              "      <th>financial</th>\n",
              "      <th>fincen</th>\n",
              "      <th>findings</th>\n",
              "      <th>...</th>\n",
              "      <th>missouri</th>\n",
              "      <th>money</th>\n",
              "      <th>network</th>\n",
              "      <th>november</th>\n",
              "      <th>number</th>\n",
              "      <th>office</th>\n",
              "      <th>offices</th>\n",
              "      <th>order</th>\n",
              "      <th>paul</th>\n",
              "      <th>penalty</th>\n",
              "      <th>period</th>\n",
              "      <th>policies</th>\n",
              "      <th>procedures</th>\n",
              "      <th>proceeding</th>\n",
              "      <th>program</th>\n",
              "      <th>regional</th>\n",
              "      <th>regulatory</th>\n",
              "      <th>relief</th>\n",
              "      <th>reports</th>\n",
              "      <th>requirement</th>\n",
              "      <th>reviews</th>\n",
              "      <th>richard</th>\n",
              "      <th>rule</th>\n",
              "      <th>sar</th>\n",
              "      <th>sars</th>\n",
              "      <th>sec</th>\n",
              "      <th>secrecy</th>\n",
              "      <th>section</th>\n",
              "      <th>securities</th>\n",
              "      <th>spicher</th>\n",
              "      <th>st</th>\n",
              "      <th>statements</th>\n",
              "      <th>steps</th>\n",
              "      <th>stoltz</th>\n",
              "      <th>today</th>\n",
              "      <th>training</th>\n",
              "      <th>transactions</th>\n",
              "      <th>treasury</th>\n",
              "      <th>violations</th>\n",
              "      <th>wells</th>\n",
              "    </tr>\n",
              "  </thead>\n",
              "  <tbody>\n",
              "    <tr>\n",
              "      <th>0</th>\n",
              "      <td>1</td>\n",
              "      <td>0</td>\n",
              "      <td>2</td>\n",
              "      <td>3</td>\n",
              "      <td>0</td>\n",
              "      <td>0</td>\n",
              "      <td>1</td>\n",
              "      <td>0</td>\n",
              "      <td>0</td>\n",
              "      <td>0</td>\n",
              "      <td>1</td>\n",
              "      <td>1</td>\n",
              "      <td>0</td>\n",
              "      <td>0</td>\n",
              "      <td>0</td>\n",
              "      <td>2</td>\n",
              "      <td>0</td>\n",
              "      <td>1</td>\n",
              "      <td>0</td>\n",
              "      <td>0</td>\n",
              "      <td>0</td>\n",
              "      <td>1</td>\n",
              "      <td>0</td>\n",
              "      <td>0</td>\n",
              "      <td>1</td>\n",
              "      <td>0</td>\n",
              "      <td>0</td>\n",
              "      <td>0</td>\n",
              "      <td>0</td>\n",
              "      <td>0</td>\n",
              "      <td>0</td>\n",
              "      <td>1</td>\n",
              "      <td>1</td>\n",
              "      <td>3</td>\n",
              "      <td>1</td>\n",
              "      <td>0</td>\n",
              "      <td>0</td>\n",
              "      <td>0</td>\n",
              "      <td>0</td>\n",
              "      <td>0</td>\n",
              "      <td>...</td>\n",
              "      <td>1</td>\n",
              "      <td>1</td>\n",
              "      <td>0</td>\n",
              "      <td>1</td>\n",
              "      <td>1</td>\n",
              "      <td>0</td>\n",
              "      <td>1</td>\n",
              "      <td>0</td>\n",
              "      <td>0</td>\n",
              "      <td>0</td>\n",
              "      <td>0</td>\n",
              "      <td>0</td>\n",
              "      <td>0</td>\n",
              "      <td>1</td>\n",
              "      <td>0</td>\n",
              "      <td>0</td>\n",
              "      <td>0</td>\n",
              "      <td>0</td>\n",
              "      <td>1</td>\n",
              "      <td>0</td>\n",
              "      <td>0</td>\n",
              "      <td>0</td>\n",
              "      <td>0</td>\n",
              "      <td>0</td>\n",
              "      <td>1</td>\n",
              "      <td>1</td>\n",
              "      <td>0</td>\n",
              "      <td>0</td>\n",
              "      <td>1</td>\n",
              "      <td>0</td>\n",
              "      <td>1</td>\n",
              "      <td>0</td>\n",
              "      <td>0</td>\n",
              "      <td>0</td>\n",
              "      <td>1</td>\n",
              "      <td>0</td>\n",
              "      <td>0</td>\n",
              "      <td>0</td>\n",
              "      <td>0</td>\n",
              "      <td>3</td>\n",
              "    </tr>\n",
              "    <tr>\n",
              "      <th>1</th>\n",
              "      <td>0</td>\n",
              "      <td>1</td>\n",
              "      <td>3</td>\n",
              "      <td>0</td>\n",
              "      <td>0</td>\n",
              "      <td>0</td>\n",
              "      <td>0</td>\n",
              "      <td>0</td>\n",
              "      <td>0</td>\n",
              "      <td>1</td>\n",
              "      <td>0</td>\n",
              "      <td>2</td>\n",
              "      <td>2</td>\n",
              "      <td>0</td>\n",
              "      <td>0</td>\n",
              "      <td>0</td>\n",
              "      <td>0</td>\n",
              "      <td>0</td>\n",
              "      <td>0</td>\n",
              "      <td>0</td>\n",
              "      <td>1</td>\n",
              "      <td>0</td>\n",
              "      <td>0</td>\n",
              "      <td>2</td>\n",
              "      <td>0</td>\n",
              "      <td>2</td>\n",
              "      <td>1</td>\n",
              "      <td>0</td>\n",
              "      <td>1</td>\n",
              "      <td>0</td>\n",
              "      <td>0</td>\n",
              "      <td>0</td>\n",
              "      <td>0</td>\n",
              "      <td>0</td>\n",
              "      <td>0</td>\n",
              "      <td>2</td>\n",
              "      <td>0</td>\n",
              "      <td>1</td>\n",
              "      <td>2</td>\n",
              "      <td>0</td>\n",
              "      <td>...</td>\n",
              "      <td>0</td>\n",
              "      <td>1</td>\n",
              "      <td>1</td>\n",
              "      <td>0</td>\n",
              "      <td>0</td>\n",
              "      <td>0</td>\n",
              "      <td>0</td>\n",
              "      <td>0</td>\n",
              "      <td>0</td>\n",
              "      <td>0</td>\n",
              "      <td>0</td>\n",
              "      <td>0</td>\n",
              "      <td>0</td>\n",
              "      <td>0</td>\n",
              "      <td>0</td>\n",
              "      <td>0</td>\n",
              "      <td>0</td>\n",
              "      <td>1</td>\n",
              "      <td>0</td>\n",
              "      <td>0</td>\n",
              "      <td>0</td>\n",
              "      <td>0</td>\n",
              "      <td>0</td>\n",
              "      <td>3</td>\n",
              "      <td>3</td>\n",
              "      <td>0</td>\n",
              "      <td>1</td>\n",
              "      <td>0</td>\n",
              "      <td>1</td>\n",
              "      <td>0</td>\n",
              "      <td>0</td>\n",
              "      <td>0</td>\n",
              "      <td>0</td>\n",
              "      <td>0</td>\n",
              "      <td>0</td>\n",
              "      <td>0</td>\n",
              "      <td>1</td>\n",
              "      <td>1</td>\n",
              "      <td>2</td>\n",
              "      <td>0</td>\n",
              "    </tr>\n",
              "    <tr>\n",
              "      <th>2</th>\n",
              "      <td>0</td>\n",
              "      <td>0</td>\n",
              "      <td>5</td>\n",
              "      <td>2</td>\n",
              "      <td>1</td>\n",
              "      <td>0</td>\n",
              "      <td>0</td>\n",
              "      <td>0</td>\n",
              "      <td>0</td>\n",
              "      <td>0</td>\n",
              "      <td>0</td>\n",
              "      <td>0</td>\n",
              "      <td>0</td>\n",
              "      <td>0</td>\n",
              "      <td>0</td>\n",
              "      <td>0</td>\n",
              "      <td>0</td>\n",
              "      <td>0</td>\n",
              "      <td>1</td>\n",
              "      <td>0</td>\n",
              "      <td>0</td>\n",
              "      <td>0</td>\n",
              "      <td>0</td>\n",
              "      <td>0</td>\n",
              "      <td>0</td>\n",
              "      <td>0</td>\n",
              "      <td>0</td>\n",
              "      <td>1</td>\n",
              "      <td>0</td>\n",
              "      <td>1</td>\n",
              "      <td>0</td>\n",
              "      <td>0</td>\n",
              "      <td>0</td>\n",
              "      <td>2</td>\n",
              "      <td>0</td>\n",
              "      <td>0</td>\n",
              "      <td>1</td>\n",
              "      <td>0</td>\n",
              "      <td>0</td>\n",
              "      <td>0</td>\n",
              "      <td>...</td>\n",
              "      <td>0</td>\n",
              "      <td>0</td>\n",
              "      <td>0</td>\n",
              "      <td>0</td>\n",
              "      <td>0</td>\n",
              "      <td>0</td>\n",
              "      <td>0</td>\n",
              "      <td>1</td>\n",
              "      <td>0</td>\n",
              "      <td>0</td>\n",
              "      <td>1</td>\n",
              "      <td>0</td>\n",
              "      <td>0</td>\n",
              "      <td>0</td>\n",
              "      <td>1</td>\n",
              "      <td>0</td>\n",
              "      <td>0</td>\n",
              "      <td>0</td>\n",
              "      <td>0</td>\n",
              "      <td>1</td>\n",
              "      <td>2</td>\n",
              "      <td>0</td>\n",
              "      <td>0</td>\n",
              "      <td>5</td>\n",
              "      <td>4</td>\n",
              "      <td>1</td>\n",
              "      <td>0</td>\n",
              "      <td>0</td>\n",
              "      <td>0</td>\n",
              "      <td>0</td>\n",
              "      <td>0</td>\n",
              "      <td>1</td>\n",
              "      <td>1</td>\n",
              "      <td>0</td>\n",
              "      <td>0</td>\n",
              "      <td>0</td>\n",
              "      <td>0</td>\n",
              "      <td>0</td>\n",
              "      <td>0</td>\n",
              "      <td>2</td>\n",
              "    </tr>\n",
              "    <tr>\n",
              "      <th>3</th>\n",
              "      <td>0</td>\n",
              "      <td>1</td>\n",
              "      <td>0</td>\n",
              "      <td>3</td>\n",
              "      <td>0</td>\n",
              "      <td>0</td>\n",
              "      <td>0</td>\n",
              "      <td>0</td>\n",
              "      <td>0</td>\n",
              "      <td>0</td>\n",
              "      <td>0</td>\n",
              "      <td>0</td>\n",
              "      <td>0</td>\n",
              "      <td>0</td>\n",
              "      <td>1</td>\n",
              "      <td>0</td>\n",
              "      <td>0</td>\n",
              "      <td>0</td>\n",
              "      <td>0</td>\n",
              "      <td>0</td>\n",
              "      <td>0</td>\n",
              "      <td>0</td>\n",
              "      <td>0</td>\n",
              "      <td>0</td>\n",
              "      <td>0</td>\n",
              "      <td>0</td>\n",
              "      <td>0</td>\n",
              "      <td>0</td>\n",
              "      <td>0</td>\n",
              "      <td>0</td>\n",
              "      <td>0</td>\n",
              "      <td>1</td>\n",
              "      <td>0</td>\n",
              "      <td>3</td>\n",
              "      <td>0</td>\n",
              "      <td>0</td>\n",
              "      <td>0</td>\n",
              "      <td>0</td>\n",
              "      <td>0</td>\n",
              "      <td>1</td>\n",
              "      <td>...</td>\n",
              "      <td>0</td>\n",
              "      <td>0</td>\n",
              "      <td>0</td>\n",
              "      <td>0</td>\n",
              "      <td>0</td>\n",
              "      <td>0</td>\n",
              "      <td>0</td>\n",
              "      <td>2</td>\n",
              "      <td>0</td>\n",
              "      <td>1</td>\n",
              "      <td>0</td>\n",
              "      <td>1</td>\n",
              "      <td>1</td>\n",
              "      <td>1</td>\n",
              "      <td>0</td>\n",
              "      <td>0</td>\n",
              "      <td>0</td>\n",
              "      <td>0</td>\n",
              "      <td>0</td>\n",
              "      <td>0</td>\n",
              "      <td>0</td>\n",
              "      <td>0</td>\n",
              "      <td>1</td>\n",
              "      <td>0</td>\n",
              "      <td>0</td>\n",
              "      <td>2</td>\n",
              "      <td>0</td>\n",
              "      <td>1</td>\n",
              "      <td>1</td>\n",
              "      <td>0</td>\n",
              "      <td>0</td>\n",
              "      <td>0</td>\n",
              "      <td>0</td>\n",
              "      <td>0</td>\n",
              "      <td>0</td>\n",
              "      <td>1</td>\n",
              "      <td>0</td>\n",
              "      <td>0</td>\n",
              "      <td>0</td>\n",
              "      <td>3</td>\n",
              "    </tr>\n",
              "    <tr>\n",
              "      <th>4</th>\n",
              "      <td>0</td>\n",
              "      <td>0</td>\n",
              "      <td>0</td>\n",
              "      <td>0</td>\n",
              "      <td>0</td>\n",
              "      <td>1</td>\n",
              "      <td>0</td>\n",
              "      <td>0</td>\n",
              "      <td>0</td>\n",
              "      <td>0</td>\n",
              "      <td>0</td>\n",
              "      <td>0</td>\n",
              "      <td>0</td>\n",
              "      <td>1</td>\n",
              "      <td>0</td>\n",
              "      <td>0</td>\n",
              "      <td>1</td>\n",
              "      <td>0</td>\n",
              "      <td>0</td>\n",
              "      <td>1</td>\n",
              "      <td>0</td>\n",
              "      <td>0</td>\n",
              "      <td>1</td>\n",
              "      <td>0</td>\n",
              "      <td>0</td>\n",
              "      <td>0</td>\n",
              "      <td>0</td>\n",
              "      <td>0</td>\n",
              "      <td>0</td>\n",
              "      <td>0</td>\n",
              "      <td>1</td>\n",
              "      <td>0</td>\n",
              "      <td>0</td>\n",
              "      <td>0</td>\n",
              "      <td>0</td>\n",
              "      <td>0</td>\n",
              "      <td>0</td>\n",
              "      <td>0</td>\n",
              "      <td>0</td>\n",
              "      <td>0</td>\n",
              "      <td>...</td>\n",
              "      <td>0</td>\n",
              "      <td>0</td>\n",
              "      <td>0</td>\n",
              "      <td>0</td>\n",
              "      <td>0</td>\n",
              "      <td>1</td>\n",
              "      <td>0</td>\n",
              "      <td>0</td>\n",
              "      <td>2</td>\n",
              "      <td>0</td>\n",
              "      <td>0</td>\n",
              "      <td>0</td>\n",
              "      <td>0</td>\n",
              "      <td>0</td>\n",
              "      <td>0</td>\n",
              "      <td>1</td>\n",
              "      <td>0</td>\n",
              "      <td>0</td>\n",
              "      <td>0</td>\n",
              "      <td>0</td>\n",
              "      <td>0</td>\n",
              "      <td>1</td>\n",
              "      <td>0</td>\n",
              "      <td>0</td>\n",
              "      <td>0</td>\n",
              "      <td>1</td>\n",
              "      <td>0</td>\n",
              "      <td>0</td>\n",
              "      <td>0</td>\n",
              "      <td>1</td>\n",
              "      <td>0</td>\n",
              "      <td>0</td>\n",
              "      <td>0</td>\n",
              "      <td>1</td>\n",
              "      <td>0</td>\n",
              "      <td>0</td>\n",
              "      <td>0</td>\n",
              "      <td>0</td>\n",
              "      <td>0</td>\n",
              "      <td>0</td>\n",
              "    </tr>\n",
              "    <tr>\n",
              "      <th>5</th>\n",
              "      <td>0</td>\n",
              "      <td>0</td>\n",
              "      <td>0</td>\n",
              "      <td>0</td>\n",
              "      <td>0</td>\n",
              "      <td>0</td>\n",
              "      <td>0</td>\n",
              "      <td>1</td>\n",
              "      <td>1</td>\n",
              "      <td>0</td>\n",
              "      <td>0</td>\n",
              "      <td>0</td>\n",
              "      <td>0</td>\n",
              "      <td>0</td>\n",
              "      <td>0</td>\n",
              "      <td>0</td>\n",
              "      <td>0</td>\n",
              "      <td>0</td>\n",
              "      <td>0</td>\n",
              "      <td>0</td>\n",
              "      <td>0</td>\n",
              "      <td>0</td>\n",
              "      <td>0</td>\n",
              "      <td>0</td>\n",
              "      <td>0</td>\n",
              "      <td>0</td>\n",
              "      <td>0</td>\n",
              "      <td>0</td>\n",
              "      <td>0</td>\n",
              "      <td>0</td>\n",
              "      <td>0</td>\n",
              "      <td>0</td>\n",
              "      <td>0</td>\n",
              "      <td>0</td>\n",
              "      <td>0</td>\n",
              "      <td>0</td>\n",
              "      <td>0</td>\n",
              "      <td>1</td>\n",
              "      <td>1</td>\n",
              "      <td>0</td>\n",
              "      <td>...</td>\n",
              "      <td>0</td>\n",
              "      <td>0</td>\n",
              "      <td>0</td>\n",
              "      <td>0</td>\n",
              "      <td>0</td>\n",
              "      <td>0</td>\n",
              "      <td>0</td>\n",
              "      <td>1</td>\n",
              "      <td>0</td>\n",
              "      <td>0</td>\n",
              "      <td>0</td>\n",
              "      <td>0</td>\n",
              "      <td>0</td>\n",
              "      <td>0</td>\n",
              "      <td>0</td>\n",
              "      <td>0</td>\n",
              "      <td>1</td>\n",
              "      <td>0</td>\n",
              "      <td>0</td>\n",
              "      <td>0</td>\n",
              "      <td>0</td>\n",
              "      <td>0</td>\n",
              "      <td>0</td>\n",
              "      <td>0</td>\n",
              "      <td>0</td>\n",
              "      <td>1</td>\n",
              "      <td>0</td>\n",
              "      <td>0</td>\n",
              "      <td>0</td>\n",
              "      <td>0</td>\n",
              "      <td>0</td>\n",
              "      <td>0</td>\n",
              "      <td>0</td>\n",
              "      <td>0</td>\n",
              "      <td>0</td>\n",
              "      <td>0</td>\n",
              "      <td>0</td>\n",
              "      <td>0</td>\n",
              "      <td>0</td>\n",
              "      <td>0</td>\n",
              "    </tr>\n",
              "  </tbody>\n",
              "</table>\n",
              "<p>6 rows × 100 columns</p>\n",
              "</div>"
            ],
            "text/plain": [
              "   accounts  act  activity  advisors  ...  transactions  treasury  violations  wells\n",
              "0         1    0         2         3  ...             0         0           0      3\n",
              "1         0    1         3         0  ...             1         1           2      0\n",
              "2         0    0         5         2  ...             0         0           0      2\n",
              "3         0    1         0         3  ...             0         0           0      3\n",
              "4         0    0         0         0  ...             0         0           0      0\n",
              "5         0    0         0         0  ...             0         0           0      0\n",
              "\n",
              "[6 rows x 100 columns]"
            ]
          },
          "metadata": {
            "tags": []
          },
          "execution_count": 118
        }
      ]
    },
    {
      "cell_type": "code",
      "metadata": {
        "id": "8COiYvaIvkTs",
        "colab_type": "code",
        "colab": {}
      },
      "source": [
        "# Create the gensim corpus\n",
        "corpusn = matutils.Sparse2Corpus(scipy.sparse.csr_matrix(data_dtmn.transpose()))\n",
        "\n",
        "# Create the vocabulary dictionary\n",
        "id2wordn = dict((v, k) for k, v in cvn.vocabulary_.items())\n",
        "id2wordn"
      ],
      "execution_count": 0,
      "outputs": []
    },
    {
      "cell_type": "code",
      "metadata": {
        "id": "DakV9wE5vtmb",
        "colab_type": "code",
        "colab": {
          "base_uri": "https://localhost:8080/",
          "height": 104
        },
        "outputId": "238ed3f3-6b04-484e-891f-c644f165bdf6"
      },
      "source": [
        "# Let's start with 2 topics\n",
        "ldan = models.LdaModel(corpus=corpusn, num_topics=2, id2word=id2wordn, passes=10)\n",
        "ldan.print_topics()"
      ],
      "execution_count": 121,
      "outputs": [
        {
          "output_type": "execute_result",
          "data": {
            "text/plain": [
              "[(0,\n",
              "  '0.047*\"fargo\" + 0.047*\"advisors\" + 0.047*\"wells\" + 0.041*\"activity\" + 0.031*\"sec\" + 0.030*\"sar\" + 0.030*\"sars\" + 0.020*\"order\" + 0.014*\"firm\" + 0.014*\"investigators\"'),\n",
              " (1,\n",
              "  '0.037*\"activity\" + 0.036*\"sars\" + 0.036*\"sar\" + 0.036*\"fincen\" + 0.026*\"broker\" + 0.026*\"bsa\" + 0.026*\"days\" + 0.026*\"filing\" + 0.026*\"violations\" + 0.026*\"financial\"')]"
            ]
          },
          "metadata": {
            "tags": []
          },
          "execution_count": 121
        }
      ]
    },
    {
      "cell_type": "code",
      "metadata": {
        "id": "7Em_lpwwvxFq",
        "colab_type": "code",
        "colab": {
          "base_uri": "https://localhost:8080/",
          "height": 138
        },
        "outputId": "c3e5b755-0379-41f9-8fab-1a75edfa133c"
      },
      "source": [
        "# Let's try topics = 3\n",
        "ldan = models.LdaModel(corpus=corpusn, num_topics=3, id2word=id2wordn, passes=10)\n",
        "ldan.print_topics()"
      ],
      "execution_count": 122,
      "outputs": [
        {
          "output_type": "execute_result",
          "data": {
            "text/plain": [
              "[(0,\n",
              "  '0.075*\"activity\" + 0.075*\"sar\" + 0.066*\"sars\" + 0.021*\"fargo\" + 0.021*\"advisors\" + 0.021*\"wells\" + 0.021*\"fincen\" + 0.021*\"broker\" + 0.021*\"violations\" + 0.021*\"filing\"'),\n",
              " (1,\n",
              "  '0.047*\"sec\" + 0.037*\"order\" + 0.036*\"wells\" + 0.036*\"advisors\" + 0.036*\"fargo\" + 0.026*\"investigation\" + 0.026*\"paul\" + 0.026*\"mensheha\" + 0.015*\"authority\" + 0.015*\"industry\"'),\n",
              " (2,\n",
              "  '0.045*\"wells\" + 0.045*\"advisors\" + 0.045*\"fargo\" + 0.031*\"charges\" + 0.031*\"activity\" + 0.018*\"sec\" + 0.018*\"securities\" + 0.018*\"proceeding\" + 0.018*\"exchange\" + 0.018*\"march\"')]"
            ]
          },
          "metadata": {
            "tags": []
          },
          "execution_count": 122
        }
      ]
    },
    {
      "cell_type": "code",
      "metadata": {
        "id": "2yFI0a5sv0wN",
        "colab_type": "code",
        "colab": {
          "base_uri": "https://localhost:8080/",
          "height": 171
        },
        "outputId": "1fa1a7c4-36e0-4c49-cd02-7873d32f2a67"
      },
      "source": [
        "# Let's try 4 topics\n",
        "ldan = models.LdaModel(corpus=corpusn, num_topics=4, id2word=id2wordn, passes=10)\n",
        "ldan.print_topics()"
      ],
      "execution_count": 123,
      "outputs": [
        {
          "output_type": "execute_result",
          "data": {
            "text/plain": [
              "[(0,\n",
              "  '0.071*\"activity\" + 0.057*\"sar\" + 0.057*\"sars\" + 0.036*\"advisors\" + 0.036*\"wells\" + 0.036*\"fargo\" + 0.023*\"broker\" + 0.016*\"sec\" + 0.016*\"filing\" + 0.016*\"securities\"'),\n",
              " (1,\n",
              "  '0.065*\"wells\" + 0.065*\"advisors\" + 0.065*\"fargo\" + 0.045*\"sec\" + 0.045*\"order\" + 0.025*\"securities\" + 0.025*\"exchange\" + 0.025*\"proceeding\" + 0.025*\"act\" + 0.025*\"training\"'),\n",
              " (2,\n",
              "  '0.038*\"financial\" + 0.038*\"sec\" + 0.038*\"fincen\" + 0.038*\"regulatory\" + 0.038*\"authority\" + 0.038*\"assistance\" + 0.038*\"industry\" + 0.038*\"order\" + 0.008*\"fargo\" + 0.008*\"advisors\"'),\n",
              " (3,\n",
              "  '0.045*\"mensheha\" + 0.045*\"investigation\" + 0.045*\"paul\" + 0.025*\"jacobus\" + 0.025*\"hoffmeyer\" + 0.025*\"frisz\" + 0.025*\"stoltz\" + 0.025*\"office\" + 0.025*\"keith\" + 0.025*\"carlson\"')]"
            ]
          },
          "metadata": {
            "tags": []
          },
          "execution_count": 123
        }
      ]
    },
    {
      "cell_type": "markdown",
      "metadata": {
        "id": "jSBkBzG5v6cH",
        "colab_type": "text"
      },
      "source": [
        "Topic Modeling - Attempt #3 (Nouns and Adjectives)**bold text**"
      ]
    },
    {
      "cell_type": "code",
      "metadata": {
        "id": "4uyoL4Q3v9wg",
        "colab_type": "code",
        "colab": {}
      },
      "source": [
        "# Let's create a function to pull out nouns from a string of text\n",
        "def nouns_adj(text):\n",
        "    '''Given a string of text, tokenize the text and pull out only the nouns and adjectives.'''\n",
        "    is_noun_adj = lambda pos: pos[:2] == 'NN' or pos[:2] == 'JJ'\n",
        "    tokenized = word_tokenize(text)\n",
        "    nouns_adj = [word for (word, pos) in pos_tag(tokenized) if is_noun_adj(pos)] \n",
        "    return ' '.join(nouns_adj)"
      ],
      "execution_count": 0,
      "outputs": []
    },
    {
      "cell_type": "code",
      "metadata": {
        "id": "4Xpc7xHYwCas",
        "colab_type": "code",
        "colab": {
          "base_uri": "https://localhost:8080/",
          "height": 225
        },
        "outputId": "89ee6984-b046-4c3c-d66e-47f8b7759b78"
      },
      "source": [
        "# Apply the nouns function to the transcripts to filter only on nouns\n",
        "data_nouns_adj = pd.DataFrame(docx.Data.apply(nouns_adj))\n",
        "data_nouns_adj"
      ],
      "execution_count": 127,
      "outputs": [
        {
          "output_type": "execute_result",
          "data": {
            "text/html": [
              "<div>\n",
              "<style scoped>\n",
              "    .dataframe tbody tr th:only-of-type {\n",
              "        vertical-align: middle;\n",
              "    }\n",
              "\n",
              "    .dataframe tbody tr th {\n",
              "        vertical-align: top;\n",
              "    }\n",
              "\n",
              "    .dataframe thead th {\n",
              "        text-align: right;\n",
              "    }\n",
              "</style>\n",
              "<table border=\"1\" class=\"dataframe\">\n",
              "  <thead>\n",
              "    <tr style=\"text-align: right;\">\n",
              "      <th></th>\n",
              "      <th>Data</th>\n",
              "    </tr>\n",
              "  </thead>\n",
              "  <tbody>\n",
              "    <tr>\n",
              "      <th>0</th>\n",
              "      <td>ADMINISTRATIVE PROCEEDING File No SEC Charges ...</td>\n",
              "    </tr>\n",
              "    <tr>\n",
              "      <th>1</th>\n",
              "      <td>potential violations securities laws other mon...</td>\n",
              "    </tr>\n",
              "    <tr>\n",
              "      <th>2</th>\n",
              "      <td>SEC ’ s order March new management Wells Fargo...</td>\n",
              "    </tr>\n",
              "    <tr>\n",
              "      <th>3</th>\n",
              "      <td>SEC ’ order settled administrative cease-and-d...</td>\n",
              "    </tr>\n",
              "    <tr>\n",
              "      <th>4</th>\n",
              "      <td>SEC ’ investigation Richard G. Stoltz Paul Men...</td>\n",
              "    </tr>\n",
              "    <tr>\n",
              "      <th>5</th>\n",
              "      <td>SEC assistance FinCEN Financial Industry Regul...</td>\n",
              "    </tr>\n",
              "  </tbody>\n",
              "</table>\n",
              "</div>"
            ],
            "text/plain": [
              "                                                Data\n",
              "0  ADMINISTRATIVE PROCEEDING File No SEC Charges ...\n",
              "1  potential violations securities laws other mon...\n",
              "2  SEC ’ s order March new management Wells Fargo...\n",
              "3  SEC ’ order settled administrative cease-and-d...\n",
              "4  SEC ’ investigation Richard G. Stoltz Paul Men...\n",
              "5  SEC assistance FinCEN Financial Industry Regul..."
            ]
          },
          "metadata": {
            "tags": []
          },
          "execution_count": 127
        }
      ]
    },
    {
      "cell_type": "code",
      "metadata": {
        "id": "CU115X4bwh5h",
        "colab_type": "code",
        "colab": {
          "base_uri": "https://localhost:8080/",
          "height": 274
        },
        "outputId": "658c0084-4d66-4ebf-d75d-3592723a801b"
      },
      "source": [
        "# Create a new document-term matrix using only nouns and adjectives, also remove common words with max_df\n",
        "cvna = CountVectorizer(stop_words=stop_words, max_df=.8)\n",
        "data_cvna = cvna.fit_transform(data_nouns_adj.Data)\n",
        "data_dtmna = pd.DataFrame(data_cvna.toarray(), columns=cvna.get_feature_names())\n",
        "data_dtmna.index = data_nouns_adj.index\n",
        "data_dtmna"
      ],
      "execution_count": 128,
      "outputs": [
        {
          "output_type": "execute_result",
          "data": {
            "text/html": [
              "<div>\n",
              "<style scoped>\n",
              "    .dataframe tbody tr th:only-of-type {\n",
              "        vertical-align: middle;\n",
              "    }\n",
              "\n",
              "    .dataframe tbody tr th {\n",
              "        vertical-align: top;\n",
              "    }\n",
              "\n",
              "    .dataframe thead th {\n",
              "        text-align: right;\n",
              "    }\n",
              "</style>\n",
              "<table border=\"1\" class=\"dataframe\">\n",
              "  <thead>\n",
              "    <tr style=\"text-align: right;\">\n",
              "      <th></th>\n",
              "      <th>11</th>\n",
              "      <th>17a</th>\n",
              "      <th>accounts</th>\n",
              "      <th>act</th>\n",
              "      <th>activity</th>\n",
              "      <th>additional</th>\n",
              "      <th>administrative</th>\n",
              "      <th>advisors</th>\n",
              "      <th>aml</th>\n",
              "      <th>anne</th>\n",
              "      <th>anti</th>\n",
              "      <th>assistance</th>\n",
              "      <th>authority</th>\n",
              "      <th>bank</th>\n",
              "      <th>branch</th>\n",
              "      <th>broker</th>\n",
              "      <th>bsa</th>\n",
              "      <th>carlson</th>\n",
              "      <th>cease</th>\n",
              "      <th>censure</th>\n",
              "      <th>charges</th>\n",
              "      <th>chicago</th>\n",
              "      <th>civil</th>\n",
              "      <th>commission</th>\n",
              "      <th>confusion</th>\n",
              "      <th>craig</th>\n",
              "      <th>crimes</th>\n",
              "      <th>customers</th>\n",
              "      <th>david</th>\n",
              "      <th>days</th>\n",
              "      <th>dealer</th>\n",
              "      <th>dealers</th>\n",
              "      <th>department</th>\n",
              "      <th>desist</th>\n",
              "      <th>difficulty</th>\n",
              "      <th>enforcement</th>\n",
              "      <th>environment</th>\n",
              "      <th>examination</th>\n",
              "      <th>exchange</th>\n",
              "      <th>failures</th>\n",
              "      <th>...</th>\n",
              "      <th>order</th>\n",
              "      <th>paul</th>\n",
              "      <th>penalty</th>\n",
              "      <th>period</th>\n",
              "      <th>policies</th>\n",
              "      <th>potential</th>\n",
              "      <th>previously</th>\n",
              "      <th>procedures</th>\n",
              "      <th>proceeding</th>\n",
              "      <th>program</th>\n",
              "      <th>proof</th>\n",
              "      <th>regional</th>\n",
              "      <th>registered</th>\n",
              "      <th>regulatory</th>\n",
              "      <th>related</th>\n",
              "      <th>relief</th>\n",
              "      <th>reports</th>\n",
              "      <th>requirement</th>\n",
              "      <th>reviews</th>\n",
              "      <th>richard</th>\n",
              "      <th>rule</th>\n",
              "      <th>sar</th>\n",
              "      <th>sars</th>\n",
              "      <th>secrecy</th>\n",
              "      <th>section</th>\n",
              "      <th>securities</th>\n",
              "      <th>settled</th>\n",
              "      <th>spicher</th>\n",
              "      <th>st</th>\n",
              "      <th>statements</th>\n",
              "      <th>steps</th>\n",
              "      <th>stoltz</th>\n",
              "      <th>suspicious</th>\n",
              "      <th>today</th>\n",
              "      <th>total</th>\n",
              "      <th>training</th>\n",
              "      <th>transactions</th>\n",
              "      <th>treasury</th>\n",
              "      <th>violations</th>\n",
              "      <th>wells</th>\n",
              "    </tr>\n",
              "  </thead>\n",
              "  <tbody>\n",
              "    <tr>\n",
              "      <th>0</th>\n",
              "      <td>0</td>\n",
              "      <td>0</td>\n",
              "      <td>1</td>\n",
              "      <td>0</td>\n",
              "      <td>2</td>\n",
              "      <td>0</td>\n",
              "      <td>1</td>\n",
              "      <td>3</td>\n",
              "      <td>0</td>\n",
              "      <td>0</td>\n",
              "      <td>1</td>\n",
              "      <td>0</td>\n",
              "      <td>0</td>\n",
              "      <td>0</td>\n",
              "      <td>1</td>\n",
              "      <td>1</td>\n",
              "      <td>0</td>\n",
              "      <td>0</td>\n",
              "      <td>0</td>\n",
              "      <td>0</td>\n",
              "      <td>2</td>\n",
              "      <td>0</td>\n",
              "      <td>0</td>\n",
              "      <td>1</td>\n",
              "      <td>0</td>\n",
              "      <td>0</td>\n",
              "      <td>0</td>\n",
              "      <td>1</td>\n",
              "      <td>0</td>\n",
              "      <td>0</td>\n",
              "      <td>1</td>\n",
              "      <td>0</td>\n",
              "      <td>0</td>\n",
              "      <td>0</td>\n",
              "      <td>0</td>\n",
              "      <td>0</td>\n",
              "      <td>0</td>\n",
              "      <td>0</td>\n",
              "      <td>1</td>\n",
              "      <td>1</td>\n",
              "      <td>...</td>\n",
              "      <td>0</td>\n",
              "      <td>0</td>\n",
              "      <td>0</td>\n",
              "      <td>0</td>\n",
              "      <td>0</td>\n",
              "      <td>0</td>\n",
              "      <td>0</td>\n",
              "      <td>0</td>\n",
              "      <td>1</td>\n",
              "      <td>0</td>\n",
              "      <td>0</td>\n",
              "      <td>0</td>\n",
              "      <td>1</td>\n",
              "      <td>0</td>\n",
              "      <td>0</td>\n",
              "      <td>0</td>\n",
              "      <td>1</td>\n",
              "      <td>0</td>\n",
              "      <td>0</td>\n",
              "      <td>0</td>\n",
              "      <td>0</td>\n",
              "      <td>0</td>\n",
              "      <td>1</td>\n",
              "      <td>0</td>\n",
              "      <td>0</td>\n",
              "      <td>1</td>\n",
              "      <td>0</td>\n",
              "      <td>0</td>\n",
              "      <td>1</td>\n",
              "      <td>0</td>\n",
              "      <td>0</td>\n",
              "      <td>0</td>\n",
              "      <td>2</td>\n",
              "      <td>1</td>\n",
              "      <td>0</td>\n",
              "      <td>0</td>\n",
              "      <td>0</td>\n",
              "      <td>0</td>\n",
              "      <td>0</td>\n",
              "      <td>3</td>\n",
              "    </tr>\n",
              "    <tr>\n",
              "      <th>1</th>\n",
              "      <td>0</td>\n",
              "      <td>0</td>\n",
              "      <td>0</td>\n",
              "      <td>1</td>\n",
              "      <td>3</td>\n",
              "      <td>0</td>\n",
              "      <td>1</td>\n",
              "      <td>0</td>\n",
              "      <td>0</td>\n",
              "      <td>0</td>\n",
              "      <td>0</td>\n",
              "      <td>0</td>\n",
              "      <td>0</td>\n",
              "      <td>1</td>\n",
              "      <td>0</td>\n",
              "      <td>3</td>\n",
              "      <td>2</td>\n",
              "      <td>0</td>\n",
              "      <td>0</td>\n",
              "      <td>0</td>\n",
              "      <td>0</td>\n",
              "      <td>0</td>\n",
              "      <td>0</td>\n",
              "      <td>0</td>\n",
              "      <td>0</td>\n",
              "      <td>0</td>\n",
              "      <td>1</td>\n",
              "      <td>0</td>\n",
              "      <td>0</td>\n",
              "      <td>2</td>\n",
              "      <td>1</td>\n",
              "      <td>2</td>\n",
              "      <td>1</td>\n",
              "      <td>0</td>\n",
              "      <td>0</td>\n",
              "      <td>1</td>\n",
              "      <td>0</td>\n",
              "      <td>0</td>\n",
              "      <td>0</td>\n",
              "      <td>0</td>\n",
              "      <td>...</td>\n",
              "      <td>0</td>\n",
              "      <td>0</td>\n",
              "      <td>0</td>\n",
              "      <td>0</td>\n",
              "      <td>0</td>\n",
              "      <td>1</td>\n",
              "      <td>2</td>\n",
              "      <td>0</td>\n",
              "      <td>0</td>\n",
              "      <td>0</td>\n",
              "      <td>0</td>\n",
              "      <td>0</td>\n",
              "      <td>0</td>\n",
              "      <td>0</td>\n",
              "      <td>1</td>\n",
              "      <td>1</td>\n",
              "      <td>0</td>\n",
              "      <td>0</td>\n",
              "      <td>0</td>\n",
              "      <td>0</td>\n",
              "      <td>0</td>\n",
              "      <td>3</td>\n",
              "      <td>3</td>\n",
              "      <td>1</td>\n",
              "      <td>0</td>\n",
              "      <td>1</td>\n",
              "      <td>0</td>\n",
              "      <td>0</td>\n",
              "      <td>0</td>\n",
              "      <td>0</td>\n",
              "      <td>0</td>\n",
              "      <td>0</td>\n",
              "      <td>2</td>\n",
              "      <td>0</td>\n",
              "      <td>0</td>\n",
              "      <td>0</td>\n",
              "      <td>1</td>\n",
              "      <td>1</td>\n",
              "      <td>2</td>\n",
              "      <td>0</td>\n",
              "    </tr>\n",
              "    <tr>\n",
              "      <th>2</th>\n",
              "      <td>1</td>\n",
              "      <td>0</td>\n",
              "      <td>0</td>\n",
              "      <td>0</td>\n",
              "      <td>5</td>\n",
              "      <td>0</td>\n",
              "      <td>0</td>\n",
              "      <td>2</td>\n",
              "      <td>1</td>\n",
              "      <td>0</td>\n",
              "      <td>0</td>\n",
              "      <td>0</td>\n",
              "      <td>0</td>\n",
              "      <td>0</td>\n",
              "      <td>0</td>\n",
              "      <td>0</td>\n",
              "      <td>0</td>\n",
              "      <td>0</td>\n",
              "      <td>0</td>\n",
              "      <td>0</td>\n",
              "      <td>0</td>\n",
              "      <td>0</td>\n",
              "      <td>0</td>\n",
              "      <td>0</td>\n",
              "      <td>1</td>\n",
              "      <td>0</td>\n",
              "      <td>0</td>\n",
              "      <td>0</td>\n",
              "      <td>0</td>\n",
              "      <td>0</td>\n",
              "      <td>0</td>\n",
              "      <td>0</td>\n",
              "      <td>0</td>\n",
              "      <td>0</td>\n",
              "      <td>1</td>\n",
              "      <td>0</td>\n",
              "      <td>1</td>\n",
              "      <td>0</td>\n",
              "      <td>0</td>\n",
              "      <td>0</td>\n",
              "      <td>...</td>\n",
              "      <td>1</td>\n",
              "      <td>0</td>\n",
              "      <td>0</td>\n",
              "      <td>1</td>\n",
              "      <td>0</td>\n",
              "      <td>0</td>\n",
              "      <td>0</td>\n",
              "      <td>0</td>\n",
              "      <td>0</td>\n",
              "      <td>1</td>\n",
              "      <td>1</td>\n",
              "      <td>0</td>\n",
              "      <td>0</td>\n",
              "      <td>1</td>\n",
              "      <td>0</td>\n",
              "      <td>0</td>\n",
              "      <td>0</td>\n",
              "      <td>1</td>\n",
              "      <td>2</td>\n",
              "      <td>0</td>\n",
              "      <td>0</td>\n",
              "      <td>5</td>\n",
              "      <td>4</td>\n",
              "      <td>0</td>\n",
              "      <td>0</td>\n",
              "      <td>0</td>\n",
              "      <td>0</td>\n",
              "      <td>0</td>\n",
              "      <td>0</td>\n",
              "      <td>1</td>\n",
              "      <td>1</td>\n",
              "      <td>0</td>\n",
              "      <td>0</td>\n",
              "      <td>0</td>\n",
              "      <td>1</td>\n",
              "      <td>0</td>\n",
              "      <td>0</td>\n",
              "      <td>0</td>\n",
              "      <td>0</td>\n",
              "      <td>2</td>\n",
              "    </tr>\n",
              "    <tr>\n",
              "      <th>3</th>\n",
              "      <td>0</td>\n",
              "      <td>1</td>\n",
              "      <td>0</td>\n",
              "      <td>1</td>\n",
              "      <td>0</td>\n",
              "      <td>1</td>\n",
              "      <td>1</td>\n",
              "      <td>3</td>\n",
              "      <td>0</td>\n",
              "      <td>0</td>\n",
              "      <td>0</td>\n",
              "      <td>0</td>\n",
              "      <td>0</td>\n",
              "      <td>0</td>\n",
              "      <td>0</td>\n",
              "      <td>0</td>\n",
              "      <td>0</td>\n",
              "      <td>0</td>\n",
              "      <td>2</td>\n",
              "      <td>1</td>\n",
              "      <td>0</td>\n",
              "      <td>0</td>\n",
              "      <td>1</td>\n",
              "      <td>0</td>\n",
              "      <td>0</td>\n",
              "      <td>0</td>\n",
              "      <td>0</td>\n",
              "      <td>0</td>\n",
              "      <td>0</td>\n",
              "      <td>0</td>\n",
              "      <td>0</td>\n",
              "      <td>0</td>\n",
              "      <td>0</td>\n",
              "      <td>2</td>\n",
              "      <td>0</td>\n",
              "      <td>0</td>\n",
              "      <td>0</td>\n",
              "      <td>0</td>\n",
              "      <td>1</td>\n",
              "      <td>0</td>\n",
              "      <td>...</td>\n",
              "      <td>2</td>\n",
              "      <td>0</td>\n",
              "      <td>1</td>\n",
              "      <td>0</td>\n",
              "      <td>1</td>\n",
              "      <td>0</td>\n",
              "      <td>0</td>\n",
              "      <td>1</td>\n",
              "      <td>1</td>\n",
              "      <td>0</td>\n",
              "      <td>0</td>\n",
              "      <td>0</td>\n",
              "      <td>0</td>\n",
              "      <td>0</td>\n",
              "      <td>0</td>\n",
              "      <td>0</td>\n",
              "      <td>0</td>\n",
              "      <td>0</td>\n",
              "      <td>0</td>\n",
              "      <td>0</td>\n",
              "      <td>1</td>\n",
              "      <td>0</td>\n",
              "      <td>0</td>\n",
              "      <td>0</td>\n",
              "      <td>1</td>\n",
              "      <td>1</td>\n",
              "      <td>1</td>\n",
              "      <td>0</td>\n",
              "      <td>0</td>\n",
              "      <td>0</td>\n",
              "      <td>0</td>\n",
              "      <td>0</td>\n",
              "      <td>0</td>\n",
              "      <td>0</td>\n",
              "      <td>0</td>\n",
              "      <td>1</td>\n",
              "      <td>0</td>\n",
              "      <td>0</td>\n",
              "      <td>0</td>\n",
              "      <td>3</td>\n",
              "    </tr>\n",
              "    <tr>\n",
              "      <th>4</th>\n",
              "      <td>0</td>\n",
              "      <td>0</td>\n",
              "      <td>0</td>\n",
              "      <td>0</td>\n",
              "      <td>0</td>\n",
              "      <td>0</td>\n",
              "      <td>0</td>\n",
              "      <td>0</td>\n",
              "      <td>0</td>\n",
              "      <td>1</td>\n",
              "      <td>0</td>\n",
              "      <td>0</td>\n",
              "      <td>0</td>\n",
              "      <td>0</td>\n",
              "      <td>0</td>\n",
              "      <td>0</td>\n",
              "      <td>0</td>\n",
              "      <td>1</td>\n",
              "      <td>0</td>\n",
              "      <td>0</td>\n",
              "      <td>0</td>\n",
              "      <td>1</td>\n",
              "      <td>0</td>\n",
              "      <td>0</td>\n",
              "      <td>0</td>\n",
              "      <td>1</td>\n",
              "      <td>0</td>\n",
              "      <td>0</td>\n",
              "      <td>1</td>\n",
              "      <td>0</td>\n",
              "      <td>0</td>\n",
              "      <td>0</td>\n",
              "      <td>0</td>\n",
              "      <td>0</td>\n",
              "      <td>0</td>\n",
              "      <td>0</td>\n",
              "      <td>0</td>\n",
              "      <td>1</td>\n",
              "      <td>0</td>\n",
              "      <td>0</td>\n",
              "      <td>...</td>\n",
              "      <td>0</td>\n",
              "      <td>2</td>\n",
              "      <td>0</td>\n",
              "      <td>0</td>\n",
              "      <td>0</td>\n",
              "      <td>0</td>\n",
              "      <td>0</td>\n",
              "      <td>0</td>\n",
              "      <td>0</td>\n",
              "      <td>0</td>\n",
              "      <td>0</td>\n",
              "      <td>1</td>\n",
              "      <td>0</td>\n",
              "      <td>0</td>\n",
              "      <td>0</td>\n",
              "      <td>0</td>\n",
              "      <td>0</td>\n",
              "      <td>0</td>\n",
              "      <td>0</td>\n",
              "      <td>1</td>\n",
              "      <td>0</td>\n",
              "      <td>0</td>\n",
              "      <td>0</td>\n",
              "      <td>0</td>\n",
              "      <td>0</td>\n",
              "      <td>0</td>\n",
              "      <td>0</td>\n",
              "      <td>1</td>\n",
              "      <td>0</td>\n",
              "      <td>0</td>\n",
              "      <td>0</td>\n",
              "      <td>1</td>\n",
              "      <td>0</td>\n",
              "      <td>0</td>\n",
              "      <td>0</td>\n",
              "      <td>0</td>\n",
              "      <td>0</td>\n",
              "      <td>0</td>\n",
              "      <td>0</td>\n",
              "      <td>0</td>\n",
              "    </tr>\n",
              "    <tr>\n",
              "      <th>5</th>\n",
              "      <td>0</td>\n",
              "      <td>0</td>\n",
              "      <td>0</td>\n",
              "      <td>0</td>\n",
              "      <td>0</td>\n",
              "      <td>0</td>\n",
              "      <td>0</td>\n",
              "      <td>0</td>\n",
              "      <td>0</td>\n",
              "      <td>0</td>\n",
              "      <td>0</td>\n",
              "      <td>1</td>\n",
              "      <td>1</td>\n",
              "      <td>0</td>\n",
              "      <td>0</td>\n",
              "      <td>0</td>\n",
              "      <td>0</td>\n",
              "      <td>0</td>\n",
              "      <td>0</td>\n",
              "      <td>0</td>\n",
              "      <td>0</td>\n",
              "      <td>0</td>\n",
              "      <td>0</td>\n",
              "      <td>0</td>\n",
              "      <td>0</td>\n",
              "      <td>0</td>\n",
              "      <td>0</td>\n",
              "      <td>0</td>\n",
              "      <td>0</td>\n",
              "      <td>0</td>\n",
              "      <td>0</td>\n",
              "      <td>0</td>\n",
              "      <td>0</td>\n",
              "      <td>0</td>\n",
              "      <td>0</td>\n",
              "      <td>0</td>\n",
              "      <td>0</td>\n",
              "      <td>0</td>\n",
              "      <td>0</td>\n",
              "      <td>0</td>\n",
              "      <td>...</td>\n",
              "      <td>1</td>\n",
              "      <td>0</td>\n",
              "      <td>0</td>\n",
              "      <td>0</td>\n",
              "      <td>0</td>\n",
              "      <td>0</td>\n",
              "      <td>0</td>\n",
              "      <td>0</td>\n",
              "      <td>0</td>\n",
              "      <td>0</td>\n",
              "      <td>0</td>\n",
              "      <td>0</td>\n",
              "      <td>0</td>\n",
              "      <td>1</td>\n",
              "      <td>0</td>\n",
              "      <td>0</td>\n",
              "      <td>0</td>\n",
              "      <td>0</td>\n",
              "      <td>0</td>\n",
              "      <td>0</td>\n",
              "      <td>0</td>\n",
              "      <td>0</td>\n",
              "      <td>0</td>\n",
              "      <td>0</td>\n",
              "      <td>0</td>\n",
              "      <td>0</td>\n",
              "      <td>0</td>\n",
              "      <td>0</td>\n",
              "      <td>0</td>\n",
              "      <td>0</td>\n",
              "      <td>0</td>\n",
              "      <td>0</td>\n",
              "      <td>0</td>\n",
              "      <td>0</td>\n",
              "      <td>0</td>\n",
              "      <td>0</td>\n",
              "      <td>0</td>\n",
              "      <td>0</td>\n",
              "      <td>0</td>\n",
              "      <td>0</td>\n",
              "    </tr>\n",
              "  </tbody>\n",
              "</table>\n",
              "<p>6 rows × 119 columns</p>\n",
              "</div>"
            ],
            "text/plain": [
              "   11  17a  accounts  act  ...  transactions  treasury  violations  wells\n",
              "0   0    0         1    0  ...             0         0           0      3\n",
              "1   0    0         0    1  ...             1         1           2      0\n",
              "2   1    0         0    0  ...             0         0           0      2\n",
              "3   0    1         0    1  ...             0         0           0      3\n",
              "4   0    0         0    0  ...             0         0           0      0\n",
              "5   0    0         0    0  ...             0         0           0      0\n",
              "\n",
              "[6 rows x 119 columns]"
            ]
          },
          "metadata": {
            "tags": []
          },
          "execution_count": 128
        }
      ]
    },
    {
      "cell_type": "code",
      "metadata": {
        "id": "_KFrn2nnwpgy",
        "colab_type": "code",
        "colab": {}
      },
      "source": [
        "# Create the gensim corpus\n",
        "corpusna = matutils.Sparse2Corpus(scipy.sparse.csr_matrix(data_dtmna.transpose()))\n",
        "\n",
        "# Create the vocabulary dictionary\n",
        "id2wordna = dict((v, k) for k, v in cvna.vocabulary_.items())"
      ],
      "execution_count": 0,
      "outputs": []
    },
    {
      "cell_type": "code",
      "metadata": {
        "id": "F_JMWujEwsjF",
        "colab_type": "code",
        "colab": {
          "base_uri": "https://localhost:8080/",
          "height": 104
        },
        "outputId": "2646ef7c-e614-4403-a936-8d1f84b89385"
      },
      "source": [
        "# Let's start with 2 topics\n",
        "ldana = models.LdaModel(corpus=corpusna, num_topics=2, id2word=id2wordna, passes=10)\n",
        "ldana.print_topics()"
      ],
      "execution_count": 143,
      "outputs": [
        {
          "output_type": "execute_result",
          "data": {
            "text/plain": [
              "[(0,\n",
              "  '0.025*\"broker\" + 0.025*\"fincen\" + 0.025*\"sars\" + 0.025*\"sar\" + 0.025*\"activity\" + 0.018*\"suspicious\" + 0.018*\"paul\" + 0.018*\"mensheha\" + 0.018*\"investigation\" + 0.018*\"financial\"'),\n",
              " (1,\n",
              "  '0.046*\"fargo\" + 0.046*\"advisors\" + 0.046*\"wells\" + 0.041*\"activity\" + 0.030*\"sar\" + 0.030*\"sars\" + 0.019*\"order\" + 0.014*\"securities\" + 0.014*\"investigators\" + 0.014*\"reviews\"')]"
            ]
          },
          "metadata": {
            "tags": []
          },
          "execution_count": 143
        }
      ]
    },
    {
      "cell_type": "code",
      "metadata": {
        "id": "4ku4VxU6wuLH",
        "colab_type": "code",
        "colab": {
          "base_uri": "https://localhost:8080/",
          "height": 138
        },
        "outputId": "57a6a862-77e9-4667-8a44-fe8e466729f4"
      },
      "source": [
        "# Let's try 3 topics\n",
        "ldana = models.LdaModel(corpus=corpusna, num_topics=3, id2word=id2wordna, passes=10)\n",
        "ldana.print_topics()"
      ],
      "execution_count": 131,
      "outputs": [
        {
          "output_type": "execute_result",
          "data": {
            "text/plain": [
              "[(0,\n",
              "  '0.041*\"activity\" + 0.033*\"sars\" + 0.033*\"broker\" + 0.033*\"suspicious\" + 0.025*\"sar\" + 0.023*\"wells\" + 0.023*\"fargo\" + 0.023*\"advisors\" + 0.018*\"fincen\" + 0.018*\"bsa\"'),\n",
              " (1,\n",
              "  '0.050*\"advisors\" + 0.050*\"fargo\" + 0.050*\"wells\" + 0.032*\"order\" + 0.032*\"desist\" + 0.032*\"cease\" + 0.020*\"exchange\" + 0.020*\"proceeding\" + 0.019*\"securities\" + 0.019*\"administrative\"'),\n",
              " (2,\n",
              "  '0.045*\"activity\" + 0.045*\"sar\" + 0.037*\"sars\" + 0.020*\"advisors\" + 0.020*\"fargo\" + 0.020*\"wells\" + 0.020*\"firm\" + 0.020*\"investigators\" + 0.020*\"reviews\" + 0.020*\"regulatory\"')]"
            ]
          },
          "metadata": {
            "tags": []
          },
          "execution_count": 131
        }
      ]
    },
    {
      "cell_type": "code",
      "metadata": {
        "id": "TwpXYhLZww1U",
        "colab_type": "code",
        "colab": {
          "base_uri": "https://localhost:8080/",
          "height": 171
        },
        "outputId": "670ab9ac-15ad-4a07-d90b-33dd9449b65f"
      },
      "source": [
        "# Let's try 4 topics\n",
        "ldana = models.LdaModel(corpus=corpusna, num_topics=4, id2word=id2wordna, passes=10)\n",
        "ldana.print_topics()"
      ],
      "execution_count": 132,
      "outputs": [
        {
          "output_type": "execute_result",
          "data": {
            "text/plain": [
              "[(0,\n",
              "  '0.009*\"wells\" + 0.009*\"advisors\" + 0.008*\"fargo\" + 0.008*\"suspicious\" + 0.008*\"charges\" + 0.008*\"file\" + 0.008*\"activity\" + 0.008*\"st\" + 0.008*\"international\" + 0.008*\"louis\"'),\n",
              " (1,\n",
              "  '0.060*\"activity\" + 0.049*\"sar\" + 0.049*\"sars\" + 0.031*\"fargo\" + 0.031*\"advisors\" + 0.031*\"wells\" + 0.025*\"broker\" + 0.025*\"suspicious\" + 0.013*\"fincen\" + 0.013*\"investigators\"'),\n",
              " (2,\n",
              "  '0.035*\"order\" + 0.035*\"wells\" + 0.035*\"advisors\" + 0.035*\"fargo\" + 0.024*\"investigation\" + 0.024*\"mensheha\" + 0.024*\"paul\" + 0.024*\"desist\" + 0.024*\"cease\" + 0.013*\"exchange\"'),\n",
              " (3,\n",
              "  '0.009*\"sar\" + 0.008*\"broker\" + 0.008*\"sars\" + 0.008*\"activity\" + 0.008*\"dealers\" + 0.008*\"filing\" + 0.008*\"previously\" + 0.008*\"days\" + 0.008*\"fincen\" + 0.008*\"violations\"')]"
            ]
          },
          "metadata": {
            "tags": []
          },
          "execution_count": 132
        }
      ]
    },
    {
      "cell_type": "markdown",
      "metadata": {
        "id": "aNQfBlAow6qw",
        "colab_type": "text"
      },
      "source": [
        "Identify Topics in Each Document"
      ]
    },
    {
      "cell_type": "code",
      "metadata": {
        "id": "RIMwWuLDw7ay",
        "colab_type": "code",
        "colab": {
          "base_uri": "https://localhost:8080/",
          "height": 171
        },
        "outputId": "85926211-d8a4-4468-bd06-691a66850f49"
      },
      "source": [
        "# Our final LDA model (for now)\n",
        "ldana = models.LdaModel(corpus=corpusna, num_topics=4, id2word=id2wordna, passes=80)\n",
        "ldana.print_topics()"
      ],
      "execution_count": 144,
      "outputs": [
        {
          "output_type": "execute_result",
          "data": {
            "text/plain": [
              "[(0,\n",
              "  '0.042*\"investigation\" + 0.042*\"paul\" + 0.042*\"mensheha\" + 0.023*\"hoffmeyer\" + 0.023*\"carlson\" + 0.023*\"keith\" + 0.023*\"jacobus\" + 0.023*\"jennifer\" + 0.023*\"david\" + 0.023*\"craig\"'),\n",
              " (1,\n",
              "  '0.043*\"wells\" + 0.043*\"advisors\" + 0.043*\"fargo\" + 0.030*\"suspicious\" + 0.030*\"charges\" + 0.030*\"activity\" + 0.017*\"securities\" + 0.017*\"administrative\" + 0.017*\"march\" + 0.017*\"file\"'),\n",
              " (2,\n",
              "  '0.066*\"activity\" + 0.066*\"sar\" + 0.058*\"sars\" + 0.026*\"broker\" + 0.018*\"fincen\" + 0.018*\"bsa\" + 0.018*\"dealers\" + 0.018*\"filing\" + 0.018*\"days\" + 0.018*\"violations\"'),\n",
              " (3,\n",
              "  '0.047*\"order\" + 0.047*\"fargo\" + 0.047*\"wells\" + 0.047*\"advisors\" + 0.033*\"desist\" + 0.033*\"cease\" + 0.018*\"act\" + 0.018*\"administrative\" + 0.018*\"securities\" + 0.018*\"section\"')]"
            ]
          },
          "metadata": {
            "tags": []
          },
          "execution_count": 144
        }
      ]
    },
    {
      "cell_type": "markdown",
      "metadata": {
        "id": "6yskbpPJxVPm",
        "colab_type": "text"
      },
      "source": [
        "**WE can define our own topics based on this.**\n",
        "topic 1: Investigantoin on ppl\n",
        "topic 2: suspicios and security\n",
        "topic 3: cease and desist\n",
        "topic 4: filling and viloation"
      ]
    },
    {
      "cell_type": "code",
      "metadata": {
        "id": "-RaCKOMbxxIS",
        "colab_type": "code",
        "colab": {
          "base_uri": "https://localhost:8080/",
          "height": 279
        },
        "outputId": "8253ca78-f581-499a-93a6-e0065c0899de"
      },
      "source": [
        "\n",
        "# Let's take a look at which topics each transcript contains\n",
        "corpus_transformed = ldana[corpusna]\n",
        "d[50] = list(zip([a for [(a, b)] in corpus_transformed], data_dtmna.index))"
      ],
      "execution_count": 155,
      "outputs": [
        {
          "output_type": "error",
          "ename": "ValueError",
          "evalue": "ignored",
          "traceback": [
            "\u001b[0;31m---------------------------------------------------------------------------\u001b[0m",
            "\u001b[0;31mValueError\u001b[0m                                Traceback (most recent call last)",
            "\u001b[0;32m<ipython-input-155-2b92eb68042a>\u001b[0m in \u001b[0;36m<module>\u001b[0;34m()\u001b[0m\n\u001b[1;32m      1\u001b[0m \u001b[0mcorpus_transformed\u001b[0m \u001b[0;34m=\u001b[0m \u001b[0mldana\u001b[0m\u001b[0;34m[\u001b[0m\u001b[0mcorpusna\u001b[0m\u001b[0;34m]\u001b[0m\u001b[0;34m\u001b[0m\u001b[0;34m\u001b[0m\u001b[0m\n\u001b[1;32m      2\u001b[0m \u001b[0mcorpus_transformed\u001b[0m\u001b[0;34m\u001b[0m\u001b[0;34m\u001b[0m\u001b[0m\n\u001b[0;32m----> 3\u001b[0;31m \u001b[0md\u001b[0m\u001b[0;34m[\u001b[0m\u001b[0;36m50\u001b[0m\u001b[0;34m]\u001b[0m \u001b[0;34m=\u001b[0m \u001b[0mlist\u001b[0m\u001b[0;34m(\u001b[0m\u001b[0mzip\u001b[0m\u001b[0;34m(\u001b[0m\u001b[0;34m[\u001b[0m\u001b[0ma\u001b[0m \u001b[0;32mfor\u001b[0m \u001b[0;34m[\u001b[0m\u001b[0;34m(\u001b[0m\u001b[0ma\u001b[0m\u001b[0;34m,\u001b[0m \u001b[0mb\u001b[0m\u001b[0;34m)\u001b[0m\u001b[0;34m]\u001b[0m \u001b[0;32min\u001b[0m \u001b[0mcorpus_transformed\u001b[0m\u001b[0;34m]\u001b[0m\u001b[0;34m,\u001b[0m \u001b[0mdata_dtmna\u001b[0m\u001b[0;34m.\u001b[0m\u001b[0mindex\u001b[0m\u001b[0;34m)\u001b[0m\u001b[0;34m)\u001b[0m\u001b[0;34m\u001b[0m\u001b[0;34m\u001b[0m\u001b[0m\n\u001b[0m",
            "\u001b[0;32m<ipython-input-155-2b92eb68042a>\u001b[0m in \u001b[0;36m<listcomp>\u001b[0;34m(.0)\u001b[0m\n\u001b[1;32m      1\u001b[0m \u001b[0mcorpus_transformed\u001b[0m \u001b[0;34m=\u001b[0m \u001b[0mldana\u001b[0m\u001b[0;34m[\u001b[0m\u001b[0mcorpusna\u001b[0m\u001b[0;34m]\u001b[0m\u001b[0;34m\u001b[0m\u001b[0;34m\u001b[0m\u001b[0m\n\u001b[1;32m      2\u001b[0m \u001b[0mcorpus_transformed\u001b[0m\u001b[0;34m\u001b[0m\u001b[0;34m\u001b[0m\u001b[0m\n\u001b[0;32m----> 3\u001b[0;31m \u001b[0md\u001b[0m\u001b[0;34m[\u001b[0m\u001b[0;36m50\u001b[0m\u001b[0;34m]\u001b[0m \u001b[0;34m=\u001b[0m \u001b[0mlist\u001b[0m\u001b[0;34m(\u001b[0m\u001b[0mzip\u001b[0m\u001b[0;34m(\u001b[0m\u001b[0;34m[\u001b[0m\u001b[0ma\u001b[0m \u001b[0;32mfor\u001b[0m \u001b[0;34m[\u001b[0m\u001b[0;34m(\u001b[0m\u001b[0ma\u001b[0m\u001b[0;34m,\u001b[0m \u001b[0mb\u001b[0m\u001b[0;34m)\u001b[0m\u001b[0;34m]\u001b[0m \u001b[0;32min\u001b[0m \u001b[0mcorpus_transformed\u001b[0m\u001b[0;34m]\u001b[0m\u001b[0;34m,\u001b[0m \u001b[0mdata_dtmna\u001b[0m\u001b[0;34m.\u001b[0m\u001b[0mindex\u001b[0m\u001b[0;34m)\u001b[0m\u001b[0;34m)\u001b[0m\u001b[0;34m\u001b[0m\u001b[0;34m\u001b[0m\u001b[0m\n\u001b[0m",
            "\u001b[0;31mValueError\u001b[0m: too many values to unpack (expected 1)"
          ]
        }
      ]
    },
    {
      "cell_type": "code",
      "metadata": {
        "id": "B4dAF-ke67eG",
        "colab_type": "code",
        "colab": {}
      },
      "source": [
        ""
      ],
      "execution_count": 0,
      "outputs": []
    },
    {
      "cell_type": "code",
      "metadata": {
        "id": "XpULtpY30aWr",
        "colab_type": "code",
        "colab": {}
      },
      "source": [
        ""
      ],
      "execution_count": 0,
      "outputs": []
    }
  ]
}